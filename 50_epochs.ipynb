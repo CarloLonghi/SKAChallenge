{
  "nbformat": 4,
  "nbformat_minor": 0,
  "metadata": {
    "colab": {
      "name": "50_epochs.ipynb",
      "provenance": [],
      "collapsed_sections": [],
      "include_colab_link": true
    },
    "kernelspec": {
      "display_name": "Python 3",
      "name": "python3"
    },
    "language_info": {
      "name": "python"
    }
  },
  "cells": [
    {
      "cell_type": "markdown",
      "metadata": {
        "id": "view-in-github",
        "colab_type": "text"
      },
      "source": [
        "<a href=\"https://colab.research.google.com/github/CarloLonghi/SKAChallenge/blob/main/50_epochs.ipynb\" target=\"_parent\"><img src=\"https://colab.research.google.com/assets/colab-badge.svg\" alt=\"Open In Colab\"/></a>"
      ]
    },
    {
      "cell_type": "code",
      "metadata": {
        "id": "R78ZNpQFfoxb"
      },
      "source": [
        "import numpy as np\n",
        "from astropy.io import fits\n",
        "from numpy.lib.function_base import _calculate_shapes\n",
        "import pandas as pd\n",
        "import os\n",
        "import math\n",
        "from matplotlib import pyplot as plt"
      ],
      "execution_count": 2,
      "outputs": []
    },
    {
      "cell_type": "markdown",
      "metadata": {
        "id": "VhG3f8N7Kz8C"
      },
      "source": [
        "Mount google drive and set the path where our data is stored. We can also use local files but they are slower to upload"
      ]
    },
    {
      "cell_type": "code",
      "metadata": {
        "colab": {
          "base_uri": "https://localhost:8080/"
        },
        "id": "yyKYZJw2ftny",
        "outputId": "8f4a1a0b-271d-46de-e617-d0725a8f23f2"
      },
      "source": [
        "from google.colab import drive\n",
        "drive.mount('/content/drive')\n",
        "\n",
        "dir_path = \"drive/MyDrive/DL/\""
      ],
      "execution_count": 3,
      "outputs": [
        {
          "output_type": "stream",
          "name": "stdout",
          "text": [
            "Mounted at /content/drive\n"
          ]
        }
      ]
    },
    {
      "cell_type": "markdown",
      "metadata": {
        "id": "MThdpFTVLMUN"
      },
      "source": [
        "Get the fits file from the drive and extract the image"
      ]
    },
    {
      "cell_type": "code",
      "metadata": {
        "colab": {
          "base_uri": "https://localhost:8080/"
        },
        "id": "iDAB_s-6f2YZ",
        "outputId": "f1270b8a-b428-4be3-ea5c-e33278e4e459"
      },
      "source": [
        "fits_img = fits.open(dir_path + \"SKAMid_B1_8h_v3.fits\")\n",
        "print(fits_img.info())\n",
        "fits_img = fits_img[0].data[0,0,:,:]\n",
        "fits_img = fits_img[16300:20300,16300:20300]"
      ],
      "execution_count": 4,
      "outputs": [
        {
          "output_type": "stream",
          "name": "stderr",
          "text": [
            "WARNING: VerifyWarning: Invalid 'BLANK' keyword in header.  The 'BLANK' keyword is only applicable to integer data, and will be ignored in this HDU. [astropy.io.fits.hdu.image]\n"
          ]
        },
        {
          "output_type": "stream",
          "name": "stdout",
          "text": [
            "Filename: drive/MyDrive/DL/SKAMid_B1_8h_v3.fits\n",
            "No.    Name      Ver    Type      Cards   Dimensions   Format\n",
            "  0  PRIMARY       1 PrimaryHDU     118   (32768, 32768, 1, 1)   float32   \n",
            "None\n"
          ]
        }
      ]
    },
    {
      "cell_type": "markdown",
      "metadata": {
        "id": "eJHfUCDhLVMm"
      },
      "source": [
        "Parameter settings:\n",
        "\n",
        "*   since, when using the entire image the RAM of the system fills easily, we can use the image_size variable to work only on a portion of the image\n",
        "*   cutout_size is the size of the squares in which the image is divided\n"
      ]
    },
    {
      "cell_type": "code",
      "metadata": {
        "id": "PnDJObBAhM6D"
      },
      "source": [
        "cutout_size = 52\n",
        "image_size = 4000\n",
        "cutouts_per_row = image_size//cutout_size"
      ],
      "execution_count": 5,
      "outputs": []
    },
    {
      "cell_type": "markdown",
      "metadata": {
        "id": "6dhtUd3rJ4b8"
      },
      "source": [
        "**Data Normalization**"
      ]
    },
    {
      "cell_type": "code",
      "metadata": {
        "id": "ek2j5VzR2zvT"
      },
      "source": [
        "f = fits_img.flatten()\n",
        "avg = np.mean(f)\n",
        "std = np.mean(f)\n",
        "fits_img = (fits_img - avg) / std"
      ],
      "execution_count": 6,
      "outputs": []
    },
    {
      "cell_type": "markdown",
      "metadata": {
        "id": "SKH_LPiML-46"
      },
      "source": [
        "Divide the image"
      ]
    },
    {
      "cell_type": "code",
      "metadata": {
        "id": "RzsaOnsbgcPc"
      },
      "source": [
        "cutouts = np.empty((cutouts_per_row**2,cutout_size,cutout_size))\n",
        "\n",
        "for i in range(0,cutouts_per_row):\n",
        "  for j in range(0,cutouts_per_row):\n",
        "    cutouts[i*cutouts_per_row+j] = fits_img[i*cutout_size:i*cutout_size+cutout_size,j*cutout_size:j*cutout_size+cutout_size]\n",
        "\n",
        "del fits_img"
      ],
      "execution_count": 7,
      "outputs": []
    },
    {
      "cell_type": "markdown",
      "metadata": {
        "id": "AFDsawXMMEQ1"
      },
      "source": [
        "Upload the already filtered training set from the drive"
      ]
    },
    {
      "cell_type": "code",
      "metadata": {
        "colab": {
          "base_uri": "https://localhost:8080/"
        },
        "id": "2IwktO7GoJoa",
        "outputId": "85d99583-390c-45e9-d047-3940ad910fed"
      },
      "source": [
        "FilteredTrainingSet=pd.read_csv(dir_path + \"filtered_training_set.csv\",)\n",
        "#FilteredTrainingSet=pd.read_csv(dir_path + \"TrainingSet_B1_v2.txt\",skiprows=17,delimiter='\\s+')\n",
        "FilteredTrainingSet=FilteredTrainingSet[FilteredTrainingSet.columns[0:15]]\n",
        "FilteredTrainingSet.columns=['ID','RA (core)','DEC (core)','RA (centroid)','DEC (centroid)','FLUX','Core frac','BMAJ','BMIN','PA','SIZE','CLASS','SELECTION','x','y']\n",
        "FilteredTrainingSet['x']=FilteredTrainingSet['x'].astype(int)\n",
        "FilteredTrainingSet['y']=FilteredTrainingSet['y'].astype(int)\n",
        "FilteredTrainingSet['x']=FilteredTrainingSet['x']-16300\n",
        "FilteredTrainingSet['y']=FilteredTrainingSet['y']-16300\n",
        "FilteredTrainingSet = FilteredTrainingSet.set_index('ID')\n",
        "print(np.min(FilteredTrainingSet['y']),np.max(FilteredTrainingSet['y']),np.min(FilteredTrainingSet['x']),np.max(FilteredTrainingSet['x']))"
      ],
      "execution_count": 8,
      "outputs": [
        {
          "output_type": "stream",
          "name": "stdout",
          "text": [
            "432 3620 83 3570\n"
          ]
        }
      ]
    },
    {
      "cell_type": "markdown",
      "metadata": {
        "id": "OsN393jZMLrL"
      },
      "source": [
        "Generate images from the training set where each dot corresponds to a source"
      ]
    },
    {
      "cell_type": "code",
      "metadata": {
        "id": "N9MwLe-aiZlE"
      },
      "source": [
        "data=np.zeros((image_size,image_size,3), dtype=np.uint8 )\n",
        "for i in range(0,len(FilteredTrainingSet)):\n",
        "  x = int(FilteredTrainingSet['x'].iloc[i])\n",
        "  y = int(FilteredTrainingSet['y'].iloc[i])\n",
        "  c = int(FilteredTrainingSet['CLASS'].iloc[i]) - 1\n",
        "  data[y,x,c] = 1"
      ],
      "execution_count": 9,
      "outputs": []
    },
    {
      "cell_type": "code",
      "metadata": {
        "colab": {
          "base_uri": "https://localhost:8080/"
        },
        "id": "May5cUTvzCsp",
        "outputId": "830d0ba2-4636-4e7b-ff0b-2ebb5561cabf"
      },
      "source": [
        "background = np.ones((image_size, image_size, 1), dtype = np.uint8)\n",
        "for i in range(0,len(FilteredTrainingSet)):\n",
        "  x = int(FilteredTrainingSet['x'].iloc[i])\n",
        "  y = int(FilteredTrainingSet['y'].iloc[i])\n",
        "  background [y,x] = 0\n",
        "\n",
        "data = np.concatenate((data,background), axis = 2)\n",
        "np.shape(data)"
      ],
      "execution_count": 10,
      "outputs": [
        {
          "output_type": "execute_result",
          "data": {
            "text/plain": [
              "(4000, 4000, 4)"
            ]
          },
          "metadata": {},
          "execution_count": 10
        }
      ]
    },
    {
      "cell_type": "markdown",
      "metadata": {
        "id": "8jCDOMcVMXdx"
      },
      "source": [
        "Divide the data generated images"
      ]
    },
    {
      "cell_type": "code",
      "metadata": {
        "id": "xUh2yKxqive7"
      },
      "source": [
        "data_array = np.empty((cutouts_per_row**2,cutout_size,cutout_size,4))\n",
        "\n",
        "for i in range(0,cutouts_per_row):\n",
        "  for j in range(0,cutouts_per_row):\n",
        "    data_array[i*cutouts_per_row+j] = data[i*cutout_size:i*cutout_size+cutout_size,j*cutout_size:j*cutout_size+cutout_size]\n",
        "\n",
        "del data"
      ],
      "execution_count": 11,
      "outputs": []
    },
    {
      "cell_type": "code",
      "metadata": {
        "id": "hkROL2jlkhRe"
      },
      "source": [
        "from tensorflow.keras.layers import  Resizing, Input, Dense, Conv2D, Dropout, BatchNormalization, MaxPool2D, UpSampling2D, RandomFlip, RandomRotation, Rescaling, RandomTranslation\n",
        "from tensorflow.keras.models import Model, Sequential\n",
        "from tensorflow.keras import optimizers\n",
        "from tensorflow.keras.callbacks import EarlyStopping, ModelCheckpoint\n",
        "import matplotlib.pyplot as plt\n",
        "from sklearn.model_selection import train_test_split\n",
        "from keras import regularizers"
      ],
      "execution_count": 12,
      "outputs": []
    },
    {
      "cell_type": "markdown",
      "metadata": {
        "id": "ZUpjcZNJJ_gb"
      },
      "source": [
        "Divide the dataset in train,validation and test sets"
      ]
    },
    {
      "cell_type": "code",
      "metadata": {
        "id": "oaWDuKxXPwyd"
      },
      "source": [
        "train_x, test_x, train_y, test_y = train_test_split(cutouts, data_array, test_size=0.2, random_state=42,shuffle=True)\n",
        "train_x, val_x, train_y, val_y = train_test_split(train_x, train_y, test_size=0.2, random_state=42,shuffle=True)"
      ],
      "execution_count": 13,
      "outputs": []
    },
    {
      "cell_type": "markdown",
      "metadata": {
        "id": "77UJbtAGKE4y"
      },
      "source": [
        "Define custom layer for REFLECT padding"
      ]
    },
    {
      "cell_type": "code",
      "metadata": {
        "id": "RxXOEOBztHWi"
      },
      "source": [
        "from tensorflow.keras.layers import Layer, InputSpec\n",
        "import tensorflow \n",
        "\n",
        "class ReflectionPadding2D(Layer):\n",
        "    def __init__(self, padding=(1, 1), **kwargs):\n",
        "        self.padding = tuple(padding)\n",
        "        self.input_spec = [InputSpec(ndim=4)]\n",
        "        super(ReflectionPadding2D, self).__init__(**kwargs)\n",
        "\n",
        "    def compute_output_shape(self, s):\n",
        "        \"\"\" If you are using \"channels_last\" configuration\"\"\"\n",
        "        return (s[0], s[1] + 2 * self.padding[0], s[2] + 2 * self.padding[1], s[3])\n",
        "\n",
        "    def call(self, x, mask=None):\n",
        "        w_pad,h_pad = self.padding\n",
        "        return tensorflow.pad(x, [[0,0], [h_pad,h_pad], [w_pad,w_pad], [0,0] ], 'REFLECT')\n",
        "\n",
        "    def get_config(self):\n",
        "\n",
        "        config = super().get_config().copy()\n",
        "        config.update({\n",
        "            'padding' : self.padding\n",
        "        })\n",
        "        return config"
      ],
      "execution_count": 14,
      "outputs": []
    },
    {
      "cell_type": "code",
      "metadata": {
        "id": "l9BWTCGhbo_n"
      },
      "source": [
        "IMG_SIZE = 208\n",
        "\n",
        "resize_rescale_flip_rotate = Sequential([\n",
        "  \n",
        "  #Rescaling(1./255),\n",
        "  RandomFlip(\"horizontal_and_vertical\"),\n",
        "  RandomRotation(0.2),\n",
        "  RandomTranslation(0.1,0.1),\n",
        "  RandomRotation(0.3),\n",
        "  RandomFlip(\"horizontal_and_vertical\"),\n",
        "  RandomRotation(0.2),\n",
        "  RandomTranslation(0.1,0.1),\n",
        "])"
      ],
      "execution_count": 15,
      "outputs": []
    },
    {
      "cell_type": "markdown",
      "metadata": {
        "id": "4ZpUSd4CMgQi"
      },
      "source": [
        "Define the model"
      ]
    },
    {
      "cell_type": "code",
      "metadata": {
        "colab": {
          "base_uri": "https://localhost:8080/"
        },
        "id": "Mm-8HUS_kiHy",
        "outputId": "336f4104-c8a6-45f8-d5fe-8550e7c405cd"
      },
      "source": [
        "input_layer = Input(shape=(cutout_size, cutout_size, 1))\n",
        "x = resize_rescale_flip_rotate(input_layer)\n",
        "#x = Resizing(IMG_SIZE, IMG_SIZE)(x)\n",
        "x = resize_rescale_flip_rotate(x)\n",
        "x = ReflectionPadding2D(padding = (3,3))(input_layer)\n",
        "#dropout batch normalization\n",
        "x = Conv2D(16, (7, 7), strides=1, activation='relu')(x)\n",
        "#x = MaxPool2D((2,2))(x)\n",
        "x = ReflectionPadding2D(padding = (2,2))(x)\n",
        "x = Conv2D(32, (5, 5), strides=1, activation='relu')(x)\n",
        "#x = MaxPool2D((2,2))(x)\n",
        "x = ReflectionPadding2D(padding = (1,1))(x)\n",
        "x = Conv2D(64, (3, 3), strides=1, activation='relu')(x)\n",
        "output_layer = Dense(4,activation='softmax')(x)\n",
        "\n",
        "myCNN = Model(input_layer,output_layer)\n",
        "adadelta = optimizers.Adadelta(learning_rate=1.0, decay=0.0, rho=0.99)\n",
        "nadam = optimizers.Nadam()\n",
        "adam = optimizers.Adam(learning_rate=0.0001,beta_1=0.9, beta_2=0.999, epsilon=1e-07,)\n",
        "myCNN.compile(optimizer='nadam', loss='categorical_crossentropy', metrics=['accuracy'])\n",
        "\n",
        "es = EarlyStopping(monitor='val_loss', patience=3, verbose=1, mode='auto')\n",
        "cp = ModelCheckpoint(filepath = 'best_model.hdf5', monitor='val_loss', verbose=1, save_best_only=True, mode='auto')\n",
        "\n",
        "print(myCNN.summary())"
      ],
      "execution_count": 16,
      "outputs": [
        {
          "output_type": "stream",
          "name": "stdout",
          "text": [
            "Model: \"model\"\n",
            "_________________________________________________________________\n",
            "Layer (type)                 Output Shape              Param #   \n",
            "=================================================================\n",
            "input_1 (InputLayer)         [(None, 52, 52, 1)]       0         \n",
            "_________________________________________________________________\n",
            "reflection_padding2d (Reflec (None, 58, 58, 1)         0         \n",
            "_________________________________________________________________\n",
            "conv2d (Conv2D)              (None, 52, 52, 16)        800       \n",
            "_________________________________________________________________\n",
            "reflection_padding2d_1 (Refl (None, 56, 56, 16)        0         \n",
            "_________________________________________________________________\n",
            "conv2d_1 (Conv2D)            (None, 52, 52, 32)        12832     \n",
            "_________________________________________________________________\n",
            "reflection_padding2d_2 (Refl (None, 54, 54, 32)        0         \n",
            "_________________________________________________________________\n",
            "conv2d_2 (Conv2D)            (None, 52, 52, 64)        18496     \n",
            "_________________________________________________________________\n",
            "dense (Dense)                (None, 52, 52, 4)         260       \n",
            "=================================================================\n",
            "Total params: 32,388\n",
            "Trainable params: 32,388\n",
            "Non-trainable params: 0\n",
            "_________________________________________________________________\n",
            "None\n"
          ]
        }
      ]
    },
    {
      "cell_type": "code",
      "metadata": {
        "colab": {
          "base_uri": "https://localhost:8080/",
          "height": 865
        },
        "id": "H7YojzbMM4Y7",
        "outputId": "42f19b86-e6fe-46be-993c-18e3589ae615"
      },
      "source": [
        "from tensorflow.keras.utils import plot_model\n",
        "\n",
        "plot_model(myCNN,show_shapes=True)"
      ],
      "execution_count": 17,
      "outputs": [
        {
          "output_type": "execute_result",
          "data": {
            "image/png": "[encoded data removed]",
            "text/plain": [
              "<IPython.core.display.Image object>"
            ]
          },
          "metadata": {},
          "execution_count": 17
        }
      ]
    },
    {
      "cell_type": "markdown",
      "metadata": {
        "id": "AW6U5DlTM0IN"
      },
      "source": [
        "Training of our model"
      ]
    },
    {
      "cell_type": "code",
      "metadata": {
        "colab": {
          "base_uri": "https://localhost:8080/"
        },
        "id": "IdULDMz1WitI",
        "outputId": "af05d6f2-99fe-439a-d7e5-2bd7ade90464"
      },
      "source": [
        "train_y.shape"
      ],
      "execution_count": 18,
      "outputs": [
        {
          "output_type": "execute_result",
          "data": {
            "text/plain": [
              "(3696, 52, 52, 4)"
            ]
          },
          "metadata": {},
          "execution_count": 18
        }
      ]
    },
    {
      "cell_type": "code",
      "metadata": {
        "id": "K_w09pnnYjbl"
      },
      "source": [
        "def generate_sample_weights(training_data, weights): \n",
        "  sample_weights = []\n",
        "  d = 0\n",
        "  for d1 in training_data:\n",
        "    p = 0\n",
        "    for d2 in d1:\n",
        "      for d3 in d2:\n",
        "        c = np.argmax(d3)\n",
        "        if c != 3:\n",
        "          p = 1\n",
        "    if p == 1: \n",
        "      sample_weights.append(75)\n",
        "    else:\n",
        "      sample_weights.append(0.5)\n",
        "\n",
        "  \n",
        "  print(d)\n",
        "  return np.asarray(sample_weights)\n",
        "\n",
        "class_weights = {0 : 100 , 1 : 140 , 2 : 90 , 3 : 1}"
      ],
      "execution_count": 19,
      "outputs": []
    },
    {
      "cell_type": "code",
      "metadata": {
        "colab": {
          "base_uri": "https://localhost:8080/"
        },
        "id": "vwbDMs21Wwto",
        "outputId": "449f24da-1e05-400d-db21-e2b7dc87d397"
      },
      "source": [
        "class_weights[0]"
      ],
      "execution_count": 20,
      "outputs": [
        {
          "output_type": "execute_result",
          "data": {
            "text/plain": [
              "100"
            ]
          },
          "metadata": {},
          "execution_count": 20
        }
      ]
    },
    {
      "cell_type": "code",
      "metadata": {
        "colab": {
          "base_uri": "https://localhost:8080/"
        },
        "id": "lt_N-rUSLjJ6",
        "outputId": "c0104ef9-bade-449d-e069-b001bb696e19"
      },
      "source": [
        "w = generate_sample_weights(train_y, class_weights)\n",
        "\n"
      ],
      "execution_count": 21,
      "outputs": [
        {
          "output_type": "stream",
          "name": "stdout",
          "text": [
            "0\n"
          ]
        }
      ]
    },
    {
      "cell_type": "code",
      "metadata": {
        "colab": {
          "base_uri": "https://localhost:8080/"
        },
        "id": "JNpsVVzoWUXC",
        "outputId": "a198684f-621d-4f05-d99b-2cc819447ea3"
      },
      "source": [
        "len(w)"
      ],
      "execution_count": 22,
      "outputs": [
        {
          "output_type": "execute_result",
          "data": {
            "text/plain": [
              "3696"
            ]
          },
          "metadata": {},
          "execution_count": 22
        }
      ]
    },
    {
      "cell_type": "code",
      "metadata": {
        "colab": {
          "base_uri": "https://localhost:8080/"
        },
        "id": "P1t7wX7GaqLg",
        "outputId": "16b0c08f-3a22-4253-d79a-0f998e6c9be2"
      },
      "source": [
        "a = 0\n",
        "for i in w:\n",
        "  if i == 75:\n",
        "    a = a+1\n",
        "print(a)"
      ],
      "execution_count": 23,
      "outputs": [
        {
          "output_type": "stream",
          "name": "stdout",
          "text": [
            "2636\n"
          ]
        }
      ]
    },
    {
      "cell_type": "code",
      "metadata": {
        "id": "OfEGAhFLdbwF"
      },
      "source": [
        "batch_size = 32"
      ],
      "execution_count": 24,
      "outputs": []
    },
    {
      "cell_type": "code",
      "metadata": {
        "colab": {
          "base_uri": "https://localhost:8080/"
        },
        "id": "Jxu37M9fk5Kt",
        "outputId": "be74238e-bf38-49c8-d058-791539138ae6"
      },
      "source": [
        "base_history = myCNN.fit(train_x, train_y, epochs=50, batch_size=batch_size, shuffle=True, validation_data=(val_x, val_y), verbose=1, sample_weight=w)"
      ],
      "execution_count": 25,
      "outputs": [
        {
          "output_type": "stream",
          "name": "stdout",
          "text": [
            "Epoch 1/50\n",
            "116/116 [==============================] - 72s 613ms/step - loss: 7.6417 - accuracy: 0.9776 - val_loss: 0.0113 - val_accuracy: 0.9985\n",
            "Epoch 2/50\n",
            "116/116 [==============================] - 71s 610ms/step - loss: 0.7792 - accuracy: 0.9984 - val_loss: 0.0107 - val_accuracy: 0.9985\n",
            "Epoch 3/50\n",
            "116/116 [==============================] - 71s 612ms/step - loss: 0.7328 - accuracy: 0.9985 - val_loss: 0.0101 - val_accuracy: 0.9985\n",
            "Epoch 4/50\n",
            "116/116 [==============================] - 71s 613ms/step - loss: 0.7044 - accuracy: 0.9985 - val_loss: 0.0099 - val_accuracy: 0.9985\n",
            "Epoch 5/50\n",
            "116/116 [==============================] - 71s 610ms/step - loss: 0.6925 - accuracy: 0.9985 - val_loss: 0.0099 - val_accuracy: 0.9985\n",
            "Epoch 6/50\n",
            "116/116 [==============================] - 72s 625ms/step - loss: 0.6828 - accuracy: 0.9985 - val_loss: 0.0098 - val_accuracy: 0.9985\n",
            "Epoch 7/50\n",
            "116/116 [==============================] - 71s 609ms/step - loss: 0.6739 - accuracy: 0.9985 - val_loss: 0.0096 - val_accuracy: 0.9985\n",
            "Epoch 8/50\n",
            "116/116 [==============================] - 71s 610ms/step - loss: 0.6669 - accuracy: 0.9985 - val_loss: 0.0096 - val_accuracy: 0.9985\n",
            "Epoch 9/50\n",
            "116/116 [==============================] - 71s 611ms/step - loss: 0.6614 - accuracy: 0.9985 - val_loss: 0.0095 - val_accuracy: 0.9985\n",
            "Epoch 10/50\n",
            "116/116 [==============================] - 71s 610ms/step - loss: 0.6548 - accuracy: 0.9985 - val_loss: 0.0096 - val_accuracy: 0.9985\n",
            "Epoch 11/50\n",
            "116/116 [==============================] - 71s 611ms/step - loss: 0.6545 - accuracy: 0.9985 - val_loss: 0.0096 - val_accuracy: 0.9985\n",
            "Epoch 12/50\n",
            "116/116 [==============================] - 70s 606ms/step - loss: 0.6495 - accuracy: 0.9985 - val_loss: 0.0099 - val_accuracy: 0.9985\n",
            "Epoch 13/50\n",
            "116/116 [==============================] - 70s 606ms/step - loss: 0.6464 - accuracy: 0.9985 - val_loss: 0.0092 - val_accuracy: 0.9985\n",
            "Epoch 14/50\n",
            "116/116 [==============================] - 70s 607ms/step - loss: 0.6386 - accuracy: 0.9985 - val_loss: 0.0093 - val_accuracy: 0.9985\n",
            "Epoch 15/50\n",
            "116/116 [==============================] - 72s 622ms/step - loss: 0.6336 - accuracy: 0.9985 - val_loss: 0.0092 - val_accuracy: 0.9985\n",
            "Epoch 16/50\n",
            "116/116 [==============================] - 70s 608ms/step - loss: 0.6319 - accuracy: 0.9985 - val_loss: 0.0094 - val_accuracy: 0.9985\n",
            "Epoch 17/50\n",
            "116/116 [==============================] - 70s 608ms/step - loss: 0.6273 - accuracy: 0.9985 - val_loss: 0.0093 - val_accuracy: 0.9985\n",
            "Epoch 18/50\n",
            "116/116 [==============================] - 70s 607ms/step - loss: 0.6240 - accuracy: 0.9985 - val_loss: 0.0091 - val_accuracy: 0.9985\n",
            "Epoch 19/50\n",
            "116/116 [==============================] - 70s 606ms/step - loss: 0.6241 - accuracy: 0.9985 - val_loss: 0.0097 - val_accuracy: 0.9985\n",
            "Epoch 20/50\n",
            "116/116 [==============================] - 71s 610ms/step - loss: 0.6270 - accuracy: 0.9985 - val_loss: 0.0092 - val_accuracy: 0.9985\n",
            "Epoch 21/50\n",
            "116/116 [==============================] - 70s 607ms/step - loss: 0.6203 - accuracy: 0.9985 - val_loss: 0.0094 - val_accuracy: 0.9985\n",
            "Epoch 22/50\n",
            "116/116 [==============================] - 71s 608ms/step - loss: 0.6167 - accuracy: 0.9985 - val_loss: 0.0091 - val_accuracy: 0.9985\n",
            "Epoch 23/50\n",
            "116/116 [==============================] - 71s 609ms/step - loss: 0.6149 - accuracy: 0.9985 - val_loss: 0.0090 - val_accuracy: 0.9985\n",
            "Epoch 24/50\n",
            "116/116 [==============================] - 70s 608ms/step - loss: 0.6246 - accuracy: 0.9985 - val_loss: 0.0091 - val_accuracy: 0.9985\n",
            "Epoch 25/50\n",
            "116/116 [==============================] - 70s 607ms/step - loss: 0.6151 - accuracy: 0.9985 - val_loss: 0.0091 - val_accuracy: 0.9985\n",
            "Epoch 26/50\n",
            "116/116 [==============================] - 70s 607ms/step - loss: 0.6098 - accuracy: 0.9985 - val_loss: 0.0089 - val_accuracy: 0.9985\n",
            "Epoch 27/50\n",
            "116/116 [==============================] - 70s 606ms/step - loss: 0.6114 - accuracy: 0.9985 - val_loss: 0.0090 - val_accuracy: 0.9985\n",
            "Epoch 28/50\n",
            "116/116 [==============================] - 70s 607ms/step - loss: 0.6066 - accuracy: 0.9985 - val_loss: 0.0089 - val_accuracy: 0.9985\n",
            "Epoch 29/50\n",
            "116/116 [==============================] - 71s 608ms/step - loss: 0.6057 - accuracy: 0.9985 - val_loss: 0.0089 - val_accuracy: 0.9985\n",
            "Epoch 30/50\n",
            "116/116 [==============================] - 70s 606ms/step - loss: 0.6033 - accuracy: 0.9985 - val_loss: 0.0088 - val_accuracy: 0.9985\n",
            "Epoch 31/50\n",
            "116/116 [==============================] - 70s 607ms/step - loss: 0.6018 - accuracy: 0.9985 - val_loss: 0.0092 - val_accuracy: 0.9985\n",
            "Epoch 32/50\n",
            "116/116 [==============================] - 70s 605ms/step - loss: 0.6066 - accuracy: 0.9985 - val_loss: 0.0089 - val_accuracy: 0.9985\n",
            "Epoch 33/50\n",
            "116/116 [==============================] - 70s 604ms/step - loss: 0.6134 - accuracy: 0.9985 - val_loss: 0.0092 - val_accuracy: 0.9985\n",
            "Epoch 34/50\n",
            "116/116 [==============================] - 70s 606ms/step - loss: 0.6201 - accuracy: 0.9985 - val_loss: 0.0091 - val_accuracy: 0.9985\n",
            "Epoch 35/50\n",
            "116/116 [==============================] - 71s 609ms/step - loss: 0.6060 - accuracy: 0.9985 - val_loss: 0.0088 - val_accuracy: 0.9985\n",
            "Epoch 36/50\n",
            "116/116 [==============================] - 70s 606ms/step - loss: 0.5981 - accuracy: 0.9985 - val_loss: 0.0088 - val_accuracy: 0.9985\n",
            "Epoch 37/50\n",
            "116/116 [==============================] - 70s 607ms/step - loss: 0.5977 - accuracy: 0.9985 - val_loss: 0.0090 - val_accuracy: 0.9985\n",
            "Epoch 38/50\n",
            "116/116 [==============================] - 70s 605ms/step - loss: 0.5933 - accuracy: 0.9985 - val_loss: 0.0087 - val_accuracy: 0.9985\n",
            "Epoch 39/50\n",
            "116/116 [==============================] - 70s 606ms/step - loss: 0.5912 - accuracy: 0.9985 - val_loss: 0.0092 - val_accuracy: 0.9985\n",
            "Epoch 40/50\n",
            "116/116 [==============================] - 72s 618ms/step - loss: 0.5895 - accuracy: 0.9985 - val_loss: 0.0096 - val_accuracy: 0.9985\n",
            "Epoch 41/50\n",
            "116/116 [==============================] - 71s 614ms/step - loss: 0.5939 - accuracy: 0.9985 - val_loss: 0.0087 - val_accuracy: 0.9985\n",
            "Epoch 42/50\n",
            "116/116 [==============================] - 71s 612ms/step - loss: 0.6022 - accuracy: 0.9985 - val_loss: 0.0089 - val_accuracy: 0.9985\n",
            "Epoch 43/50\n",
            "116/116 [==============================] - 70s 608ms/step - loss: 0.5964 - accuracy: 0.9985 - val_loss: 0.0088 - val_accuracy: 0.9985\n",
            "Epoch 44/50\n",
            "116/116 [==============================] - 70s 606ms/step - loss: 0.5902 - accuracy: 0.9985 - val_loss: 0.0087 - val_accuracy: 0.9985\n",
            "Epoch 45/50\n",
            "116/116 [==============================] - 71s 608ms/step - loss: 0.5866 - accuracy: 0.9985 - val_loss: 0.0088 - val_accuracy: 0.9985\n",
            "Epoch 46/50\n",
            "116/116 [==============================] - 71s 609ms/step - loss: 0.5845 - accuracy: 0.9985 - val_loss: 0.0087 - val_accuracy: 0.9985\n",
            "Epoch 47/50\n",
            "116/116 [==============================] - 70s 607ms/step - loss: 0.5835 - accuracy: 0.9985 - val_loss: 0.0087 - val_accuracy: 0.9985\n",
            "Epoch 48/50\n",
            "116/116 [==============================] - 71s 608ms/step - loss: 0.5885 - accuracy: 0.9985 - val_loss: 0.0089 - val_accuracy: 0.9985\n",
            "Epoch 49/50\n",
            "116/116 [==============================] - 71s 612ms/step - loss: 0.5866 - accuracy: 0.9985 - val_loss: 0.0088 - val_accuracy: 0.9985\n",
            "Epoch 50/50\n",
            "116/116 [==============================] - 71s 611ms/step - loss: 0.5815 - accuracy: 0.9985 - val_loss: 0.0087 - val_accuracy: 0.9985\n"
          ]
        }
      ]
    },
    {
      "cell_type": "code",
      "metadata": {
        "id": "QPkkLBpXp1Kh",
        "colab": {
          "base_uri": "https://localhost:8080/"
        },
        "outputId": "f119996d-4845-420e-f68e-de802c9d1fee"
      },
      "source": [
        "print(base_history.history.keys())"
      ],
      "execution_count": 26,
      "outputs": [
        {
          "output_type": "stream",
          "name": "stdout",
          "text": [
            "dict_keys(['loss', 'accuracy', 'val_loss', 'val_accuracy'])\n"
          ]
        }
      ]
    },
    {
      "cell_type": "code",
      "metadata": {
        "id": "5P5IubkJk6Fm"
      },
      "source": [
        "def plot_history(model_history,keys):\n",
        "    m,val_m = keys\n",
        "    plt.plot(model_history.history[m])\n",
        "    plt.plot(model_history.history[val_m])\n",
        "    plt.ylabel(m)\n",
        "    plt.xlabel('epoch')\n",
        "    plt.legend(['train', 'test'], loc='upper left')\n",
        "    plt.savefig('accuracy.png')\n",
        "    plt.show()"
      ],
      "execution_count": 27,
      "outputs": []
    },
    {
      "cell_type": "code",
      "metadata": {
        "id": "SlTyOzDjLav2",
        "colab": {
          "base_uri": "https://localhost:8080/",
          "height": 283
        },
        "outputId": "a21f3a8e-a51e-4bf5-c075-1b701d8f5207"
      },
      "source": [
        "plot_history(base_history,['loss','val_loss'])"
      ],
      "execution_count": 28,
      "outputs": [
        {
          "output_type": "display_data",
          "data": {
            "image/png": "[encoded data removed]",
            "text/plain": [
              "<Figure size 432x288 with 1 Axes>"
            ]
          },
          "metadata": {
            "needs_background": "light"
          }
        }
      ]
    },
    {
      "cell_type": "code",
      "metadata": {
        "id": "Ifv0XFcfLb9P",
        "colab": {
          "base_uri": "https://localhost:8080/",
          "height": 279
        },
        "outputId": "4d7c2c0b-501e-45ca-9687-3d0a70631a2d"
      },
      "source": [
        "plot_history(base_history,['accuracy','val_accuracy'])"
      ],
      "execution_count": 29,
      "outputs": [
        {
          "output_type": "display_data",
          "data": {
            "image/png": "[encoded data removed]",
            "text/plain": [
              "<Figure size 432x288 with 1 Axes>"
            ]
          },
          "metadata": {
            "needs_background": "light"
          }
        }
      ]
    },
    {
      "cell_type": "markdown",
      "metadata": {
        "id": "pECkDxwWh_rt"
      },
      "source": [
        "**Performance evaluation**"
      ]
    },
    {
      "cell_type": "code",
      "metadata": {
        "id": "OGtK-uxnWWT1",
        "colab": {
          "base_uri": "https://localhost:8080/"
        },
        "outputId": "ae8195c0-fc92-452a-c015-d9b228504641"
      },
      "source": [
        "from sklearn.metrics import confusion_matrix , classification_report\n",
        "\n",
        "y_pred = myCNN.predict(test_x)\n",
        "classes = []\n",
        "c = 0\n",
        "for d1 in y_pred:\n",
        "  for d2 in d1:\n",
        "    for d3 in d2:\n",
        "      classes.append(np.argmax(d3))\n",
        "      if (np.argmax(d3)) == 1:\n",
        "        c = c+1\n",
        "print(c)\n",
        "\n",
        "testo=[]\n",
        "c2=0\n",
        "for d1 in test_y:\n",
        "  for d2 in d1:\n",
        "    for d3 in d2:\n",
        "      testo.append(np.argmax(d3))   \n",
        "      if (np.argmax(d3)) == 1:\n",
        "        c2 = c2+1   \n",
        "print(c2)\n",
        "classes[:5]\n",
        "\n",
        "\n",
        "\n",
        "\n",
        "print(\"Classification Report: \\n\", classification_report(testo, classes, target_names=['SFG', 'AGN-steep','AGN-flap','background']))"
      ],
      "execution_count": 30,
      "outputs": [
        {
          "output_type": "stream",
          "name": "stdout",
          "text": [
            "11\n",
            "48\n",
            "Classification Report: \n",
            "               precision    recall  f1-score   support\n",
            "\n",
            "         SFG       0.00      0.00      0.00        93\n",
            "   AGN-steep       0.36      0.08      0.14        48\n",
            "    AGN-flap       0.49      0.07      0.12      4479\n",
            "  background       1.00      1.00      1.00   3121204\n",
            "\n",
            "    accuracy                           1.00   3125824\n",
            "   macro avg       0.46      0.29      0.31   3125824\n",
            "weighted avg       1.00      1.00      1.00   3125824\n",
            "\n"
          ]
        }
      ]
    },
    {
      "cell_type": "code",
      "metadata": {
        "id": "o6JQ1PwrjicW"
      },
      "source": [
        ""
      ],
      "execution_count": 30,
      "outputs": []
    }
  ]
}