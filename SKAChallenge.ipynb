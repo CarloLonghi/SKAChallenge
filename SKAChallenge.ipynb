{
  "nbformat": 4,
  "nbformat_minor": 0,
  "metadata": {
    "colab": {
      "name": "SKAChallenge.ipynb",
      "provenance": [],
      "collapsed_sections": []
    },
    "kernelspec": {
      "display_name": "Python 3",
      "name": "python3"
    },
    "language_info": {
      "name": "python"
    }
  },
  "cells": [
    {
      "cell_type": "code",
      "metadata": {
        "id": "R78ZNpQFfoxb"
      },
      "source": [
        "import numpy as np\n",
        "from astropy.io import fits\n",
        "from numpy.lib.function_base import _calculate_shapes\n",
        "import pandas as pd\n",
        "import os\n",
        "import math\n",
        "from matplotlib import pyplot as plt"
      ],
      "execution_count": 1,
      "outputs": []
    },
    {
      "cell_type": "markdown",
      "metadata": {
        "id": "VhG3f8N7Kz8C"
      },
      "source": [
        "Mount google drive and set the path where our data is stored. We can also use local files but they are slower to upload"
      ]
    },
    {
      "cell_type": "code",
      "metadata": {
        "colab": {
          "base_uri": "https://localhost:8080/"
        },
        "id": "yyKYZJw2ftny",
        "outputId": "41a51747-0180-4612-b25e-df6452b901d1"
      },
      "source": [
        "from google.colab import drive\n",
        "drive.mount('/content/drive')\n",
        "\n",
        "dir_path = \"drive/MyDrive/Colab Notebooks/SKAData/\""
      ],
      "execution_count": 2,
      "outputs": [
        {
          "output_type": "stream",
          "name": "stdout",
          "text": [
            "Drive already mounted at /content/drive; to attempt to forcibly remount, call drive.mount(\"/content/drive\", force_remount=True).\n"
          ]
        }
      ]
    },
    {
      "cell_type": "markdown",
      "metadata": {
        "id": "MThdpFTVLMUN"
      },
      "source": [
        "Get the fits file from the drive and extract the image"
      ]
    },
    {
      "cell_type": "code",
      "metadata": {
        "colab": {
          "base_uri": "https://localhost:8080/"
        },
        "id": "iDAB_s-6f2YZ",
        "outputId": "37b67a81-be25-43da-d8cf-70ef6fdd0703"
      },
      "source": [
        "fits_img = fits.open(dir_path + \"SKAMid_B1_8h_v3.fits\")\n",
        "print(fits_img.info())\n",
        "fits_img = fits_img[0].data[0,0,:,:]\n",
        "fits_img = fits_img[16350:,16350:]"
      ],
      "execution_count": 3,
      "outputs": [
        {
          "output_type": "stream",
          "name": "stdout",
          "text": [
            "Filename: drive/MyDrive/Colab Notebooks/SKAData/SKAMid_B1_8h_v3.fits\n",
            "No.    Name      Ver    Type      Cards   Dimensions   Format\n",
            "  0  PRIMARY       1 PrimaryHDU     118   (32768, 32768, 1, 1)   float32   \n",
            "None\n"
          ]
        },
        {
          "output_type": "stream",
          "name": "stderr",
          "text": [
            "WARNING: VerifyWarning: Invalid 'BLANK' keyword in header.  The 'BLANK' keyword is only applicable to integer data, and will be ignored in this HDU. [astropy.io.fits.hdu.image]\n"
          ]
        }
      ]
    },
    {
      "cell_type": "markdown",
      "metadata": {
        "id": "eJHfUCDhLVMm"
      },
      "source": [
        "Parameter settings:\n",
        "since when using the entire image the RAM of the system fills easily, we can \n",
        "\n",
        "*   since, when using the entire image the RAM of the system fills easily, we can use the image_size variable to work only on a portion of the image\n",
        "*   cutout_size is the size of the squares in which the image is divided\n"
      ]
    },
    {
      "cell_type": "code",
      "metadata": {
        "id": "PnDJObBAhM6D"
      },
      "source": [
        "cutout_size = 218\n",
        "#image_size = 32700\n",
        "image_size = 15260\n",
        "cutouts_per_row = image_size//cutout_size"
      ],
      "execution_count": 4,
      "outputs": []
    },
    {
      "cell_type": "markdown",
      "metadata": {
        "id": "SKH_LPiML-46"
      },
      "source": [
        "Divide the image"
      ]
    },
    {
      "cell_type": "code",
      "metadata": {
        "id": "RzsaOnsbgcPc"
      },
      "source": [
        "cutouts = np.empty((cutouts_per_row**2,cutout_size,cutout_size))\n",
        "\n",
        "for i in range(0,cutouts_per_row):\n",
        "  for j in range(0,cutouts_per_row):\n",
        "    cutouts[i*cutouts_per_row+j] = fits_img[i*cutout_size:i*cutout_size+cutout_size,j*cutout_size:j*cutout_size+cutout_size]\n",
        "\n",
        "del fits_img"
      ],
      "execution_count": 5,
      "outputs": []
    },
    {
      "cell_type": "code",
      "metadata": {
        "id": "khyWNJdefVkw"
      },
      "source": [
        "for i in range(len(cutouts)):\n",
        "  f = cutouts[i].flatten()\n",
        "  avg = np.mean(f)\n",
        "  std = np.std(f)\n",
        "  cutouts[i] = (cutouts[i] - avg) / std"
      ],
      "execution_count": 6,
      "outputs": []
    },
    {
      "cell_type": "markdown",
      "metadata": {
        "id": "AFDsawXMMEQ1"
      },
      "source": [
        "Upload the already filtered training set from the drive"
      ]
    },
    {
      "cell_type": "code",
      "metadata": {
        "id": "2IwktO7GoJoa",
        "colab": {
          "base_uri": "https://localhost:8080/"
        },
        "outputId": "19a8ecb1-9e34-4ad9-9a22-61921d48f9bb"
      },
      "source": [
        "FilteredTrainingSet=pd.read_csv(dir_path + \"new_filtered_training_set.csv\",)\n",
        "#FilteredTrainingSet=pd.read_csv(dir_path + \"TrainingSet_B1_v2.txt\",skiprows=17,delimiter='\\s+')\n",
        "FilteredTrainingSet=FilteredTrainingSet[FilteredTrainingSet.columns[0:15]]\n",
        "FilteredTrainingSet.columns=['ID','RA (core)','DEC (core)','RA (centroid)','DEC (centroid)','FLUX','Core frac','BMAJ','BMIN','PA','SIZE','CLASS','SELECTION','x','y']\n",
        "FilteredTrainingSet['x']=FilteredTrainingSet['x'].astype(int)\n",
        "FilteredTrainingSet['y']=FilteredTrainingSet['y'].astype(int)\n",
        "FilteredTrainingSet['x']=FilteredTrainingSet['x']-16350\n",
        "FilteredTrainingSet['y']=FilteredTrainingSet['y']-16350\n",
        "FilteredTrainingSet = FilteredTrainingSet.set_index('ID')\n",
        "print(np.min(FilteredTrainingSet['y']),np.max(FilteredTrainingSet['y']),np.min(FilteredTrainingSet['x']),np.max(FilteredTrainingSet['x']))"
      ],
      "execution_count": 7,
      "outputs": [
        {
          "output_type": "stream",
          "name": "stdout",
          "text": [
            "382 3570 33 3520\n"
          ]
        }
      ]
    },
    {
      "cell_type": "markdown",
      "metadata": {
        "id": "OsN393jZMLrL"
      },
      "source": [
        "Generate images from the training set where each dot corresponds to a source"
      ]
    },
    {
      "cell_type": "code",
      "metadata": {
        "id": "N9MwLe-aiZlE"
      },
      "source": [
        "data=np.zeros((image_size,image_size), dtype=np.uint8 )\n",
        "for i in range(0,len(FilteredTrainingSet)):\n",
        "\t    data[int(FilteredTrainingSet['y'].iloc[i]),int(FilteredTrainingSet['x'].iloc[i])] = 1"
      ],
      "execution_count": 8,
      "outputs": []
    },
    {
      "cell_type": "markdown",
      "metadata": {
        "id": "8jCDOMcVMXdx"
      },
      "source": [
        "Divide the data generated images"
      ]
    },
    {
      "cell_type": "code",
      "metadata": {
        "id": "xUh2yKxqive7"
      },
      "source": [
        "data_array = np.empty((cutouts_per_row**2,cutout_size,cutout_size))\n",
        "\n",
        "for i in range(0,cutouts_per_row):\n",
        "  for j in range(0,cutouts_per_row):\n",
        "    data_array[i*cutouts_per_row+j] = data[i*cutout_size:i*cutout_size+cutout_size,j*cutout_size:j*cutout_size+cutout_size]\n",
        "\n",
        "del data"
      ],
      "execution_count": 9,
      "outputs": []
    },
    {
      "cell_type": "code",
      "metadata": {
        "id": "hkROL2jlkhRe"
      },
      "source": [
        "from tensorflow.keras.layers import Input, Dense, Conv2D, Dropout, BatchNormalization\n",
        "from tensorflow.keras.models import Model\n",
        "from tensorflow.keras import optimizers\n",
        "from tensorflow.keras.callbacks import EarlyStopping, ModelCheckpoint\n",
        "import matplotlib.pyplot as plt\n",
        "from sklearn.model_selection import train_test_split\n",
        "from keras import regularizers"
      ],
      "execution_count": 10,
      "outputs": []
    },
    {
      "cell_type": "code",
      "metadata": {
        "id": "oaWDuKxXPwyd"
      },
      "source": [
        "train_x, test_x, train_y, test_y = train_test_split(cutouts, data_array, test_size=0.25, random_state=42,shuffle=True)\n",
        "del cutouts\n",
        "del data_array\n",
        "train_x, val_x, train_y, val_y = train_test_split(train_x, train_y, test_size=0.25, random_state=42,shuffle=True)"
      ],
      "execution_count": 11,
      "outputs": []
    },
    {
      "cell_type": "markdown",
      "metadata": {
        "id": "4ZpUSd4CMgQi"
      },
      "source": [
        "Define the model"
      ]
    },
    {
      "cell_type": "code",
      "metadata": {
        "colab": {
          "base_uri": "https://localhost:8080/"
        },
        "id": "Mm-8HUS_kiHy",
        "outputId": "21e03cf1-8af7-4a66-c824-56c54c964726"
      },
      "source": [
        "input_layer = Input(shape=(cutout_size, cutout_size, 1))\n",
        "x = Conv2D(16, (7, 7), strides=1, activation='relu', padding='same')(input_layer)\n",
        "#x = BatchNormalization()(x)\n",
        "x = Conv2D(32, (5, 5), strides=1, activation='relu', padding='same')(x)\n",
        "x = Conv2D(64, (3, 3), strides=1, activation='relu', padding='same')(x)\n",
        "output_layer = Dense(1,activation='sigmoid')(x)\n",
        "\n",
        "myCNN = Model(input_layer,output_layer)\n",
        "adadelta = optimizers.Adadelta(learning_rate=1.0, decay=0.0, rho=0.99)\n",
        "myCNN.compile(optimizer=adadelta, loss='binary_crossentropy', metrics=['accuracy'])\n",
        "\n",
        "es = EarlyStopping(monitor='val_loss', patience=3, verbose=1, mode='auto')\n",
        "cp = ModelCheckpoint(filepath = 'best_model.hdf5', monitor='val_loss', verbose=1, save_best_only=True, mode='auto')\n",
        "\n",
        "print(myCNN.summary())"
      ],
      "execution_count": 12,
      "outputs": [
        {
          "output_type": "stream",
          "name": "stdout",
          "text": [
            "Model: \"model\"\n",
            "_________________________________________________________________\n",
            "Layer (type)                 Output Shape              Param #   \n",
            "=================================================================\n",
            "input_1 (InputLayer)         [(None, 218, 218, 1)]     0         \n",
            "_________________________________________________________________\n",
            "conv2d (Conv2D)              (None, 218, 218, 16)      800       \n",
            "_________________________________________________________________\n",
            "conv2d_1 (Conv2D)            (None, 218, 218, 32)      12832     \n",
            "_________________________________________________________________\n",
            "conv2d_2 (Conv2D)            (None, 218, 218, 64)      18496     \n",
            "_________________________________________________________________\n",
            "dense (Dense)                (None, 218, 218, 1)       65        \n",
            "=================================================================\n",
            "Total params: 32,193\n",
            "Trainable params: 32,193\n",
            "Non-trainable params: 0\n",
            "_________________________________________________________________\n",
            "None\n"
          ]
        }
      ]
    },
    {
      "cell_type": "code",
      "metadata": {
        "id": "H7YojzbMM4Y7",
        "colab": {
          "base_uri": "https://localhost:8080/",
          "height": 533
        },
        "outputId": "88b78206-c37d-4961-cc28-0c1a75dc579d"
      },
      "source": [
        "from tensorflow.keras.utils import plot_model\n",
        "\n",
        "plot_model(myCNN,show_shapes=True)"
      ],
      "execution_count": 13,
      "outputs": [
        {
          "output_type": "execute_result",
          "data": {
            "image/png": "[encoded data removed]",
            "text/plain": [
              "<IPython.core.display.Image object>"
            ]
          },
          "metadata": {},
          "execution_count": 13
        }
      ]
    },
    {
      "cell_type": "markdown",
      "metadata": {
        "id": "AW6U5DlTM0IN"
      },
      "source": [
        "Training of our model"
      ]
    },
    {
      "cell_type": "code",
      "metadata": {
        "id": "OfEGAhFLdbwF"
      },
      "source": [
        "batch_size = 32"
      ],
      "execution_count": 14,
      "outputs": []
    },
    {
      "cell_type": "code",
      "metadata": {
        "colab": {
          "base_uri": "https://localhost:8080/"
        },
        "id": "Jxu37M9fk5Kt",
        "outputId": "2b9805a7-8250-4090-bff9-f31951cf5127"
      },
      "source": [
        "base_history = myCNN.fit(train_x, train_y, epochs=10, batch_size=batch_size, shuffle=True, validation_data=(val_y, val_y), verbose=1, callbacks=[es, cp])"
      ],
      "execution_count": 15,
      "outputs": [
        {
          "output_type": "stream",
          "name": "stdout",
          "text": [
            "Epoch 1/10\n",
            "87/87 [==============================] - 866s 10s/step - loss: 0.0225 - accuracy: 0.9898 - val_loss: 0.0476 - val_accuracy: 0.9999\n",
            "\n",
            "Epoch 00001: val_loss improved from inf to 0.04761, saving model to best_model.hdf5\n",
            "Epoch 2/10\n",
            "87/87 [==============================] - 870s 10s/step - loss: 0.0016 - accuracy: 0.9999 - val_loss: 0.0221 - val_accuracy: 0.9999\n",
            "\n",
            "Epoch 00002: val_loss improved from 0.04761 to 0.02207, saving model to best_model.hdf5\n",
            "Epoch 3/10\n",
            "87/87 [==============================] - 867s 10s/step - loss: 0.0014 - accuracy: 0.9999 - val_loss: 0.0146 - val_accuracy: 0.9999\n",
            "\n",
            "Epoch 00003: val_loss improved from 0.02207 to 0.01460, saving model to best_model.hdf5\n",
            "Epoch 4/10\n",
            "87/87 [==============================] - 861s 10s/step - loss: 0.0013 - accuracy: 0.9999 - val_loss: 0.0105 - val_accuracy: 0.9999\n",
            "\n",
            "Epoch 00004: val_loss improved from 0.01460 to 0.01048, saving model to best_model.hdf5\n",
            "Epoch 5/10\n",
            "87/87 [==============================] - 852s 10s/step - loss: 0.0012 - accuracy: 0.9999 - val_loss: 0.0071 - val_accuracy: 0.9999\n",
            "\n",
            "Epoch 00005: val_loss improved from 0.01048 to 0.00714, saving model to best_model.hdf5\n",
            "Epoch 6/10\n",
            "87/87 [==============================] - 852s 10s/step - loss: 0.0012 - accuracy: 0.9999 - val_loss: 0.0049 - val_accuracy: 0.9999\n",
            "\n",
            "Epoch 00006: val_loss improved from 0.00714 to 0.00487, saving model to best_model.hdf5\n",
            "Epoch 7/10\n",
            "87/87 [==============================] - 852s 10s/step - loss: 0.0011 - accuracy: 0.9999 - val_loss: 0.0034 - val_accuracy: 0.9999\n",
            "\n",
            "Epoch 00007: val_loss improved from 0.00487 to 0.00341, saving model to best_model.hdf5\n",
            "Epoch 8/10\n",
            "87/87 [==============================] - 849s 10s/step - loss: 0.0011 - accuracy: 0.9999 - val_loss: 0.0027 - val_accuracy: 0.9999\n",
            "\n",
            "Epoch 00008: val_loss improved from 0.00341 to 0.00268, saving model to best_model.hdf5\n",
            "Epoch 9/10\n",
            "87/87 [==============================] - 845s 10s/step - loss: 0.0011 - accuracy: 0.9999 - val_loss: 0.0023 - val_accuracy: 0.9999\n",
            "\n",
            "Epoch 00009: val_loss improved from 0.00268 to 0.00230, saving model to best_model.hdf5\n",
            "Epoch 10/10\n",
            "87/87 [==============================] - 849s 10s/step - loss: 0.0011 - accuracy: 0.9999 - val_loss: 0.0019 - val_accuracy: 0.9999\n",
            "\n",
            "Epoch 00010: val_loss improved from 0.00230 to 0.00192, saving model to best_model.hdf5\n"
          ]
        }
      ]
    },
    {
      "cell_type": "code",
      "metadata": {
        "id": "6X3bSLPe3B7U"
      },
      "source": [
        "myCNN.save('base_model.h5')"
      ],
      "execution_count": 16,
      "outputs": []
    },
    {
      "cell_type": "code",
      "metadata": {
        "id": "QPkkLBpXp1Kh",
        "colab": {
          "base_uri": "https://localhost:8080/"
        },
        "outputId": "764d0c6f-62f1-42b9-90e1-ae3c3a88d794"
      },
      "source": [
        "print(base_history.history.keys())"
      ],
      "execution_count": 17,
      "outputs": [
        {
          "output_type": "stream",
          "name": "stdout",
          "text": [
            "dict_keys(['loss', 'accuracy', 'val_loss', 'val_accuracy'])\n"
          ]
        }
      ]
    },
    {
      "cell_type": "code",
      "metadata": {
        "id": "5P5IubkJk6Fm"
      },
      "source": [
        "def plot_history(model_history,keys):\n",
        "    m,val_m = keys\n",
        "    plt.plot(model_history.history[m])\n",
        "    plt.plot(model_history.history[val_m])\n",
        "    plt.ylabel(m)\n",
        "    plt.xlabel('epoch')\n",
        "    plt.legend(['train', 'test'], loc='upper left')\n",
        "    plt.show()"
      ],
      "execution_count": 18,
      "outputs": []
    },
    {
      "cell_type": "code",
      "metadata": {
        "id": "fqfu4LrUlASg",
        "colab": {
          "base_uri": "https://localhost:8080/",
          "height": 279
        },
        "outputId": "ab48e00b-721b-4b4c-854c-61cd938186b1"
      },
      "source": [
        "plot_history(base_history,['loss','val_loss'])"
      ],
      "execution_count": 19,
      "outputs": [
        {
          "output_type": "display_data",
          "data": {
            "image/png": "[encoded data removed]",
            "text/plain": [
              "<Figure size 432x288 with 1 Axes>"
            ]
          },
          "metadata": {
            "needs_background": "light"
          }
        }
      ]
    },
    {
      "cell_type": "code",
      "metadata": {
        "id": "d4omIcY0eGAn",
        "colab": {
          "base_uri": "https://localhost:8080/",
          "height": 279
        },
        "outputId": "951c1e71-b57e-4031-ce89-8305690076e4"
      },
      "source": [
        "plot_history(base_history,['accuracy','val_accuracy'])"
      ],
      "execution_count": 20,
      "outputs": [
        {
          "output_type": "display_data",
          "data": {
            "image/png": "[encoded data removed]",
            "text/plain": [
              "<Figure size 432x288 with 1 Axes>"
            ]
          },
          "metadata": {
            "needs_background": "light"
          }
        }
      ]
    },
    {
      "cell_type": "markdown",
      "metadata": {
        "id": "pECkDxwWh_rt"
      },
      "source": [
        "**Performance evaluation**"
      ]
    },
    {
      "cell_type": "code",
      "metadata": {
        "colab": {
          "base_uri": "https://localhost:8080/",
          "height": 1000
        },
        "id": "vasnGLDu2e6q",
        "outputId": "bf851198-a0a0-4ab4-dd8b-60c61722a67b"
      },
      "source": [
        "plt.imshow(test_x[12][32:45,37:48])\n",
        "plt.show()\n",
        "\n",
        "print(test_x[12][32:45,37:48])\n",
        "\n",
        "t = myCNN.predict(test_y[12:13])\n",
        "\n",
        "\n",
        "f = t[0,:,:,0].flatten()\n",
        "avg = np.mean(f)\n",
        "std = np.std(f)\n",
        "max = np.max(f)\n",
        "t = (t[0,:,:,0] / max)\n",
        "\n",
        "plt.imshow(t[32:45,37:48])\n",
        "plt.show()\n",
        "\n",
        "print(t[32:45,37:48])\n"
      ],
      "execution_count": 33,
      "outputs": [
        {
          "output_type": "display_data",
          "data": {
            "image/png": "[encoded data removed]",
            "text/plain": [
              "<Figure size 432x288 with 1 Axes>"
            ]
          },
          "metadata": {
            "needs_background": "light"
          }
        },
        {
          "output_type": "stream",
          "name": "stdout",
          "text": [
            "[[ 1.45624717e-01  3.48722869e-02  8.07933322e-01  1.26971380e+00\n",
            "   8.90767814e-01 -8.63994941e-01 -1.47048435e+00 -5.95672776e-01\n",
            "  -2.71241837e-01 -6.15615515e-01 -7.78935752e-01]\n",
            " [-5.95868595e-01 -1.21473934e+00 -3.90168724e-01  2.22814370e-01\n",
            "  -2.73540175e-01 -9.31802437e-01 -7.89752554e-01 -2.16982257e-01\n",
            "   5.08487561e-01  5.24894055e-01 -3.60429880e-01]\n",
            " [-1.19110391e+00 -1.73413640e+00 -4.22143075e-01  7.45037954e-01\n",
            "   1.35565782e-01 -1.68117371e-01 -2.67423480e-01 -3.28434106e-01\n",
            "   8.27446667e-01  1.60670540e+00 -1.96149348e-01]\n",
            " [-4.52937501e-02 -6.44118427e-01 -2.69172352e-02  9.66380394e-01\n",
            "   7.52808359e-01  1.44695936e-01 -5.89949258e-01 -3.39668152e-01\n",
            "   1.97537404e+00  3.01761910e+00  1.37563999e-01]\n",
            " [ 2.16966259e-03 -5.33190200e-01 -7.55051542e-01 -2.60441871e-01\n",
            "   2.68023580e-01 -2.47236587e-01 -9.02115042e-01 -3.94138786e-02\n",
            "   2.48088386e+00  2.80850094e+00 -4.89323681e-02]\n",
            " [-5.71041717e-02 -1.99572034e-01 -8.83863504e-01 -7.76560024e-01\n",
            "  -2.53941741e-01 -4.56679400e-01 -1.60451620e-01  6.04460089e-01\n",
            "   1.44808185e+00  9.06479338e-01 -5.75371037e-01]\n",
            " [ 2.09846227e-01  2.55288912e-01 -1.39450993e-01  6.47048508e-02\n",
            "   9.80064909e-02  6.40640016e-01  2.27859210e+00  2.51182436e+00\n",
            "   9.97357512e-01 -4.58089694e-01 -8.50496800e-01]\n",
            " [-1.42873052e-01 -4.06693479e-01  4.84625170e-02  7.67425309e-01\n",
            "   3.86709258e-01  1.91701375e+00  5.11937418e+00  5.35020976e+00\n",
            "   1.98119476e+00 -6.71117588e-01 -1.04220647e+00]\n",
            " [-3.70472515e-01 -1.14645746e+00 -5.51675620e-02  1.04048695e+00\n",
            "   4.82482220e-01  1.99903853e+00  5.22200359e+00  6.33707084e+00\n",
            "   3.76072127e+00  8.31856964e-01 -5.12785798e-01]\n",
            " [-5.22872583e-01 -1.06810644e+00  1.61787477e-01  1.37571986e+00\n",
            "   1.22125891e+00  1.31376897e+00  2.20663874e+00  3.92988285e+00\n",
            "   4.12440293e+00  2.47987966e+00  3.01207386e-01]\n",
            " [-6.07574513e-01 -1.85524263e-01  1.86650494e-01  9.07811505e-01\n",
            "   1.48396153e+00  9.66805704e-01 -1.12028530e-01  6.32852004e-01\n",
            "   2.36191871e+00  2.27305295e+00 -2.66431607e-02]\n",
            " [-9.10935904e-01  2.75423872e-01 -2.33491833e-01 -4.04406623e-01\n",
            "   4.27703135e-01  7.91340917e-01 -9.36228471e-02 -2.60444348e-01\n",
            "   1.26274642e+00  1.51914375e+00 -7.23129274e-01]\n",
            " [-1.04045877e+00  1.01757611e-02 -3.37013893e-01 -1.19369379e+00\n",
            "  -1.33885334e+00 -1.67675909e-01  3.66065824e-01 -1.16955143e-01\n",
            "   3.81881550e-01  6.47664638e-01 -5.54922551e-01]]\n"
          ]
        },
        {
          "output_type": "display_data",
          "data": {
            "image/png": "[encoded data removed]",
            "text/plain": [
              "<Figure size 432x288 with 1 Axes>"
            ]
          },
          "metadata": {
            "needs_background": "light"
          }
        },
        {
          "output_type": "stream",
          "name": "stdout",
          "text": [
            "[[0.00464152 0.00464152 0.00464152 0.00464152 0.00464152 0.00464152\n",
            "  0.00464152 0.00464152 0.00464152 0.00464152 0.00464152]\n",
            " [0.00460842 0.00462133 0.00462479 0.00467643 0.00465697 0.00472099\n",
            "  0.00482319 0.00477718 0.00482756 0.00482865 0.00475263]\n",
            " [0.00461042 0.00468753 0.00486975 0.00500014 0.00520345 0.00526874\n",
            "  0.00537058 0.00525528 0.00529002 0.00512234 0.00494376]\n",
            " [0.00473499 0.00495031 0.00524764 0.00564627 0.00601599 0.00605127\n",
            "  0.00653119 0.00679251 0.00652027 0.00576921 0.00517563]\n",
            " [0.004761   0.00514108 0.00589014 0.00672741 0.00778672 0.00782564\n",
            "  0.00820099 0.0077549  0.00726152 0.0061151  0.00554752]\n",
            " [0.00472844 0.00532311 0.00620093 0.00753449 0.00913409 0.01051038\n",
            "  0.01075461 0.00948198 0.00791166 0.00646572 0.00541259]\n",
            " [0.00473645 0.00556116 0.00657738 0.00833156 0.01040218 0.01295307\n",
            "  0.01325768 0.01128363 0.008275   0.00689435 0.00547842]\n",
            " [0.0047139  0.0054255  0.00633878 0.00833665 0.01011284 0.01329806\n",
            "  0.01333679 0.01115797 0.0081428  0.00692218 0.00555316]\n",
            " [0.00474026 0.00538422 0.00583777 0.00705675 0.00897006 0.01083863\n",
            "  0.01055948 0.00952308 0.00757104 0.00683961 0.00555207]\n",
            " [0.00477736 0.00492921 0.00516035 0.00647063 0.00763996 0.00855979\n",
            "  0.00817007 0.00773235 0.00657756 0.00627186 0.00546678]\n",
            " [0.00469371 0.00477682 0.00499832 0.00585159 0.0064268  0.00736663\n",
            "  0.0067145  0.00661666 0.00580085 0.00555662 0.00499032]\n",
            " [0.00465043 0.00481101 0.00496722 0.00535076 0.0058505  0.00593324\n",
            "  0.00551497 0.00543496 0.00489957 0.00495522 0.00463515]\n",
            " [0.00463897 0.00475427 0.00488902 0.00490648 0.00501632 0.00509179\n",
            "  0.00499614 0.00488702 0.0046748  0.00467098 0.00452349]]\n"
          ]
        }
      ]
    },
    {
      "cell_type": "code",
      "metadata": {
        "id": "INq5vK-Zh-f4",
        "colab": {
          "base_uri": "https://localhost:8080/"
        },
        "outputId": "0a113b05-22a2-49bb-db7d-d3beed82578e"
      },
      "source": [
        "train_y_pred = myCNN.predict(train_x)\n",
        "val_y_pred = myCNN.predict(val_x)\n",
        "test_y_pred = myCNN.predict(test_x)\n",
        "\n",
        "print('Train predictions shape: ',train_y_pred.shape)\n",
        "print('Validation predictions shape: ',val_y_pred.shape)\n",
        "print('Test predictions shape: ',test_y_pred.shape)"
      ],
      "execution_count": 22,
      "outputs": [
        {
          "output_type": "stream",
          "name": "stdout",
          "text": [
            "Train predictions shape:  (2756, 218, 218, 1)\n",
            "Validation predictions shape:  (919, 218, 218, 1)\n",
            "Test predictions shape:  (1225, 218, 218, 1)\n"
          ]
        }
      ]
    }
  ]
}