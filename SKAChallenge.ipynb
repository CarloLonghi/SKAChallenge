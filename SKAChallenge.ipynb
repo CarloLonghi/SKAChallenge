{
  "nbformat": 4,
  "nbformat_minor": 0,
  "metadata": {
    "colab": {
      "name": "SKAChallenge.ipynb",
      "provenance": [],
      "collapsed_sections": []
    },
    "kernelspec": {
      "display_name": "Python 3",
      "name": "python3"
    },
    "language_info": {
      "name": "python"
    }
  },
  "cells": [
    {
      "cell_type": "code",
      "metadata": {
        "id": "R78ZNpQFfoxb"
      },
      "source": [
        "import numpy as np\n",
        "from astropy.io import fits\n",
        "from numpy.lib.function_base import _calculate_shapes\n",
        "import pandas as pd\n",
        "import os\n",
        "import math"
      ],
      "execution_count": 5,
      "outputs": []
    },
    {
      "cell_type": "markdown",
      "metadata": {
        "id": "VhG3f8N7Kz8C"
      },
      "source": [
        "Mount google drive and set the path where our data is stored. We can also use local files but they are slower to upload"
      ]
    },
    {
      "cell_type": "code",
      "metadata": {
        "id": "yyKYZJw2ftny",
        "colab": {
          "base_uri": "https://localhost:8080/"
        },
        "outputId": "92b4f28f-3b26-4ab1-ef1a-398b17186e91"
      },
      "source": [
        "from google.colab import drive\n",
        "drive.mount('/content/drive')\n",
        "\n",
        "dir_path = \"drive/MyDrive/Colab Notebooks/SKAData/\""
      ],
      "execution_count": 6,
      "outputs": [
        {
          "output_type": "stream",
          "text": [
            "Drive already mounted at /content/drive; to attempt to forcibly remount, call drive.mount(\"/content/drive\", force_remount=True).\n"
          ],
          "name": "stdout"
        }
      ]
    },
    {
      "cell_type": "markdown",
      "metadata": {
        "id": "MThdpFTVLMUN"
      },
      "source": [
        "Get the fits file from the drive and extract the image"
      ]
    },
    {
      "cell_type": "code",
      "metadata": {
        "id": "iDAB_s-6f2YZ",
        "colab": {
          "base_uri": "https://localhost:8080/"
        },
        "outputId": "83f8a727-ee01-4cf8-f2a0-73bde32beb73"
      },
      "source": [
        "fits_img = fits.open(dir_path + \"SKAMid_B1_8h_v3.fits\")\n",
        "#print(fits_img.info())\n",
        "fits_img=fits_img[0].data[0,0,:,:]"
      ],
      "execution_count": 7,
      "outputs": [
        {
          "output_type": "stream",
          "text": [
            "WARNING: VerifyWarning: Invalid 'BLANK' keyword in header.  The 'BLANK' keyword is only applicable to integer data, and will be ignored in this HDU. [astropy.io.fits.hdu.image]\n"
          ],
          "name": "stderr"
        }
      ]
    },
    {
      "cell_type": "markdown",
      "metadata": {
        "id": "eJHfUCDhLVMm"
      },
      "source": [
        "Parameter settings:\n",
        "since when using the entire image the RAM of the system fills easily, we can \n",
        "\n",
        "*   since, when using the entire image the RAM of the system fills easily, we can use the image_size variable to work only on a portion of the image\n",
        "*   cutout_size is the size of the squares in which the image is divided\n"
      ]
    },
    {
      "cell_type": "code",
      "metadata": {
        "id": "PnDJObBAhM6D"
      },
      "source": [
        "cutout_size = 218\n",
        "#image_size = 32700\n",
        "image_size = 15260\n",
        "cutouts_per_row = image_size//cutout_size"
      ],
      "execution_count": 8,
      "outputs": []
    },
    {
      "cell_type": "markdown",
      "metadata": {
        "id": "SKH_LPiML-46"
      },
      "source": [
        "Divide the image"
      ]
    },
    {
      "cell_type": "code",
      "metadata": {
        "id": "RzsaOnsbgcPc"
      },
      "source": [
        "cutouts = np.empty((cutouts_per_row**2,cutout_size,cutout_size))\n",
        "\n",
        "for i in range(0,cutouts_per_row):\n",
        "  print(i)\n",
        "  for j in range(0,cutouts_per_row):\n",
        "    cutouts[i*cutouts_per_row+j] = fits_img[i*cutout_size:i*cutout_size+cutout_size,j*cutout_size:j*cutout_size+cutout_size]"
      ],
      "execution_count": null,
      "outputs": []
    },
    {
      "cell_type": "markdown",
      "metadata": {
        "id": "AFDsawXMMEQ1"
      },
      "source": [
        "Upload the already filtered training set from the drive"
      ]
    },
    {
      "cell_type": "code",
      "metadata": {
        "id": "2IwktO7GoJoa"
      },
      "source": [
        "FilteredTrainingSet=pd.read_csv(dir_path + \"filtered_training_set.csv\",)"
      ],
      "execution_count": 11,
      "outputs": []
    },
    {
      "cell_type": "markdown",
      "metadata": {
        "id": "OsN393jZMLrL"
      },
      "source": [
        "Generate images from the training set where each dot corresponds to a source"
      ]
    },
    {
      "cell_type": "code",
      "metadata": {
        "id": "N9MwLe-aiZlE"
      },
      "source": [
        "data=np.zeros((image_size,image_size), dtype=np.uint8 )\n",
        "for i in range(0,len(FilteredTrainingSet)):\n",
        "\t    data[int(FilteredTrainingSet['y'][i]),int(FilteredTrainingSet['x'][i])] = 1"
      ],
      "execution_count": 12,
      "outputs": []
    },
    {
      "cell_type": "markdown",
      "metadata": {
        "id": "8jCDOMcVMXdx"
      },
      "source": [
        "Divide the data generated images"
      ]
    },
    {
      "cell_type": "code",
      "metadata": {
        "id": "xUh2yKxqive7"
      },
      "source": [
        "data_array = np.empty((cutouts_per_row**2,cutout_size,cutout_size))\n",
        "\n",
        "for i in range(0,cutouts_per_row):\n",
        "  print(i)\n",
        "  for j in range(0,cutouts_per_row):\n",
        "    data_array[i*cutouts_per_row+j] = data[i*cutout_size:i*cutout_size+cutout_size,j*cutout_size:j*cutout_size+cutout_size]"
      ],
      "execution_count": null,
      "outputs": []
    },
    {
      "cell_type": "code",
      "metadata": {
        "id": "hkROL2jlkhRe"
      },
      "source": [
        "from tensorflow.keras.layers import Input, Dense, Conv2D, Dropout\n",
        "from tensorflow.keras.models import Model\n",
        "from tensorflow.keras import optimizers\n",
        "import matplotlib.pyplot as plt"
      ],
      "execution_count": 15,
      "outputs": []
    },
    {
      "cell_type": "markdown",
      "metadata": {
        "id": "4ZpUSd4CMgQi"
      },
      "source": [
        "Define the model"
      ]
    },
    {
      "cell_type": "code",
      "metadata": {
        "id": "Mm-8HUS_kiHy",
        "colab": {
          "base_uri": "https://localhost:8080/"
        },
        "outputId": "b21486b0-b167-4743-f4b4-b864b3693cbd"
      },
      "source": [
        "input_layer = Input(shape=(cutout_size, cutout_size, 1))\n",
        "x = Conv2D(16, (7, 7), strides=1, activation='relu', padding='same')(input_layer)\n",
        "x = Dropout(0.25)(x)\n",
        "x = Conv2D(32, (5, 5), strides=1, activation='relu', padding='same')(x)\n",
        "x = Conv2D(64, (3, 3), strides=1, activation='relu', padding='same')(x)\n",
        "output_layer = Dense(1,activation='sigmoid')(x)\n",
        "\n",
        "myCNN = Model(input_layer,output_layer)\n",
        "#es=keras.callbacks.EarlyStopping(monitor='val_loss', patience=5)\n",
        "adadelta = optimizers.Adadelta(learning_rate=1.0, decay=0.0, rho=0.99)\n",
        "myCNN.compile(optimizer=adadelta, loss='binary_crossentropy')\n",
        "\n",
        "print(myCNN.summary())"
      ],
      "execution_count": 16,
      "outputs": [
        {
          "output_type": "stream",
          "text": [
            "Model: \"model\"\n",
            "_________________________________________________________________\n",
            "Layer (type)                 Output Shape              Param #   \n",
            "=================================================================\n",
            "input_1 (InputLayer)         [(None, 218, 218, 1)]     0         \n",
            "_________________________________________________________________\n",
            "conv2d (Conv2D)              (None, 218, 218, 16)      800       \n",
            "_________________________________________________________________\n",
            "dropout (Dropout)            (None, 218, 218, 16)      0         \n",
            "_________________________________________________________________\n",
            "conv2d_1 (Conv2D)            (None, 218, 218, 32)      12832     \n",
            "_________________________________________________________________\n",
            "conv2d_2 (Conv2D)            (None, 218, 218, 64)      18496     \n",
            "_________________________________________________________________\n",
            "dense (Dense)                (None, 218, 218, 1)       65        \n",
            "=================================================================\n",
            "Total params: 32,193\n",
            "Trainable params: 32,193\n",
            "Non-trainable params: 0\n",
            "_________________________________________________________________\n",
            "None\n"
          ],
          "name": "stdout"
        }
      ]
    },
    {
      "cell_type": "markdown",
      "metadata": {
        "id": "EA7JFpbKMkPE"
      },
      "source": [
        "Divide images and data in training and test set\n",
        "Current proportion used is 80 train/20 test"
      ]
    },
    {
      "cell_type": "code",
      "metadata": {
        "id": "oeEUBACHkoMA"
      },
      "source": [
        "img_array = cutouts\n",
        "train_X = img_array[0:int(0.8*len(img_array))]\n",
        "test_X = img_array[int(0.8*len(img_array)):len(img_array)]\n",
        "train_Y = data_array[0:int(0.8*len(data_array))]\n",
        "test_Y = data_array[int(0.8*len(data_array)):len(data_array)]"
      ],
      "execution_count": 17,
      "outputs": []
    },
    {
      "cell_type": "markdown",
      "metadata": {
        "id": "AW6U5DlTM0IN"
      },
      "source": [
        "Training of our model"
      ]
    },
    {
      "cell_type": "code",
      "metadata": {
        "id": "Jxu37M9fk5Kt",
        "colab": {
          "base_uri": "https://localhost:8080/"
        },
        "outputId": "69c3d1df-0a33-4b37-9673-fc377e4e10ee"
      },
      "source": [
        "base_history = myCNN.fit(train_X, train_Y, epochs=10, batch_size=128, shuffle=True, validation_data=(test_X, test_Y), verbose=1)"
      ],
      "execution_count": 18,
      "outputs": [
        {
          "output_type": "stream",
          "text": [
            "Epoch 1/10\n",
            "31/31 [==============================] - 1149s 37s/step - loss: 0.1530 - val_loss: 0.0011\n",
            "Epoch 2/10\n",
            "31/31 [==============================] - 1156s 37s/step - loss: 0.0020 - val_loss: 5.2030e-04\n",
            "Epoch 3/10\n",
            "31/31 [==============================] - 1162s 38s/step - loss: 0.0017 - val_loss: 3.7614e-04\n",
            "Epoch 4/10\n",
            "31/31 [==============================] - 1162s 38s/step - loss: 0.0017 - val_loss: 3.1407e-04\n",
            "Epoch 5/10\n",
            "31/31 [==============================] - 1164s 38s/step - loss: 0.0017 - val_loss: 2.7858e-04\n",
            "Epoch 6/10\n",
            "31/31 [==============================] - 1167s 38s/step - loss: 0.0017 - val_loss: 2.5837e-04\n",
            "Epoch 7/10\n",
            "31/31 [==============================] - 1169s 38s/step - loss: 0.0017 - val_loss: 2.4671e-04\n",
            "Epoch 8/10\n",
            "31/31 [==============================] - 1163s 38s/step - loss: 0.0017 - val_loss: 2.4035e-04\n",
            "Epoch 9/10\n",
            "31/31 [==============================] - 1147s 37s/step - loss: 0.0017 - val_loss: 2.3346e-04\n",
            "Epoch 10/10\n",
            "31/31 [==============================] - 1148s 37s/step - loss: 0.0017 - val_loss: 2.3181e-04\n"
          ],
          "name": "stdout"
        }
      ]
    },
    {
      "cell_type": "code",
      "metadata": {
        "id": "QPkkLBpXp1Kh",
        "colab": {
          "base_uri": "https://localhost:8080/"
        },
        "outputId": "0151ace9-b49c-4279-eb15-0bfcb1d2c493"
      },
      "source": [
        "print(base_history.history.keys())"
      ],
      "execution_count": 19,
      "outputs": [
        {
          "output_type": "stream",
          "text": [
            "dict_keys(['loss', 'val_loss'])\n"
          ],
          "name": "stdout"
        }
      ]
    },
    {
      "cell_type": "code",
      "metadata": {
        "id": "5P5IubkJk6Fm"
      },
      "source": [
        "def plot_history(model_history,keys):\n",
        "    m,val_m = keys\n",
        "    plt.plot(model_history.history[m])\n",
        "    plt.plot(model_history.history[val_m])\n",
        "    plt.ylabel(m)\n",
        "    plt.xlabel('epoch')\n",
        "    plt.legend(['train', 'test'], loc='upper left')\n",
        "    plt.show()"
      ],
      "execution_count": 20,
      "outputs": []
    },
    {
      "cell_type": "code",
      "metadata": {
        "id": "LmQ1eWm7k-2J",
        "colab": {
          "base_uri": "https://localhost:8080/",
          "height": 289
        },
        "outputId": "ff939621-5b6c-4528-9666-937a970ec204"
      },
      "source": [
        "plot_history(base_history,['accuracy','val_accuracy'])"
      ],
      "execution_count": 21,
      "outputs": [
        {
          "output_type": "error",
          "ename": "KeyError",
          "evalue": "ignored",
          "traceback": [
            "\u001b[0;31m---------------------------------------------------------------------------\u001b[0m",
            "\u001b[0;31mKeyError\u001b[0m                                  Traceback (most recent call last)",
            "\u001b[0;32m<ipython-input-21-95bd4f08cdeb>\u001b[0m in \u001b[0;36m<module>\u001b[0;34m()\u001b[0m\n\u001b[0;32m----> 1\u001b[0;31m \u001b[0mplot_history\u001b[0m\u001b[0;34m(\u001b[0m\u001b[0mbase_history\u001b[0m\u001b[0;34m,\u001b[0m\u001b[0;34m[\u001b[0m\u001b[0;34m'accuracy'\u001b[0m\u001b[0;34m,\u001b[0m\u001b[0;34m'val_accuracy'\u001b[0m\u001b[0;34m]\u001b[0m\u001b[0;34m)\u001b[0m\u001b[0;34m\u001b[0m\u001b[0;34m\u001b[0m\u001b[0m\n\u001b[0m",
            "\u001b[0;32m<ipython-input-20-f9d1b2280377>\u001b[0m in \u001b[0;36mplot_history\u001b[0;34m(model_history, keys)\u001b[0m\n\u001b[1;32m      1\u001b[0m \u001b[0;32mdef\u001b[0m \u001b[0mplot_history\u001b[0m\u001b[0;34m(\u001b[0m\u001b[0mmodel_history\u001b[0m\u001b[0;34m,\u001b[0m\u001b[0mkeys\u001b[0m\u001b[0;34m)\u001b[0m\u001b[0;34m:\u001b[0m\u001b[0;34m\u001b[0m\u001b[0;34m\u001b[0m\u001b[0m\n\u001b[1;32m      2\u001b[0m     \u001b[0mm\u001b[0m\u001b[0;34m,\u001b[0m\u001b[0mval_m\u001b[0m \u001b[0;34m=\u001b[0m \u001b[0mkeys\u001b[0m\u001b[0;34m\u001b[0m\u001b[0;34m\u001b[0m\u001b[0m\n\u001b[0;32m----> 3\u001b[0;31m     \u001b[0mplt\u001b[0m\u001b[0;34m.\u001b[0m\u001b[0mplot\u001b[0m\u001b[0;34m(\u001b[0m\u001b[0mmodel_history\u001b[0m\u001b[0;34m.\u001b[0m\u001b[0mhistory\u001b[0m\u001b[0;34m[\u001b[0m\u001b[0mm\u001b[0m\u001b[0;34m]\u001b[0m\u001b[0;34m)\u001b[0m\u001b[0;34m\u001b[0m\u001b[0;34m\u001b[0m\u001b[0m\n\u001b[0m\u001b[1;32m      4\u001b[0m     \u001b[0mplt\u001b[0m\u001b[0;34m.\u001b[0m\u001b[0mplot\u001b[0m\u001b[0;34m(\u001b[0m\u001b[0mmodel_history\u001b[0m\u001b[0;34m.\u001b[0m\u001b[0mhistory\u001b[0m\u001b[0;34m[\u001b[0m\u001b[0mval_m\u001b[0m\u001b[0;34m]\u001b[0m\u001b[0;34m)\u001b[0m\u001b[0;34m\u001b[0m\u001b[0;34m\u001b[0m\u001b[0m\n\u001b[1;32m      5\u001b[0m     \u001b[0mplt\u001b[0m\u001b[0;34m.\u001b[0m\u001b[0mylabel\u001b[0m\u001b[0;34m(\u001b[0m\u001b[0mm\u001b[0m\u001b[0;34m)\u001b[0m\u001b[0;34m\u001b[0m\u001b[0;34m\u001b[0m\u001b[0m\n",
            "\u001b[0;31mKeyError\u001b[0m: 'accuracy'"
          ]
        }
      ]
    },
    {
      "cell_type": "code",
      "metadata": {
        "id": "fqfu4LrUlASg",
        "colab": {
          "base_uri": "https://localhost:8080/",
          "height": 283
        },
        "outputId": "e3ade546-92f6-4195-b6d3-6e8f27811d43"
      },
      "source": [
        "plot_history(base_history,['loss','val_loss'])"
      ],
      "execution_count": 22,
      "outputs": [
        {
          "output_type": "display_data",
          "data": {
            "image/png": "[encoded data removed]",
            "text/plain": [
              "<Figure size 432x288 with 1 Axes>"
            ]
          },
          "metadata": {
            "tags": [],
            "needs_background": "light"
          }
        }
      ]
    }
  ]
}