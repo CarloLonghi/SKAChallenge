{
  "nbformat": 4,
  "nbformat_minor": 0,
  "metadata": {
    "colab": {
      "name": "classification.ipynb",
      "provenance": [],
      "collapsed_sections": []
    },
    "kernelspec": {
      "display_name": "Python 3",
      "name": "python3"
    },
    "language_info": {
      "name": "python"
    }
  },
  "cells": [
    {
      "cell_type": "code",
      "metadata": {
        "id": "R78ZNpQFfoxb"
      },
      "source": [
        "import numpy as np\n",
        "from astropy.io import fits\n",
        "from numpy.lib.function_base import _calculate_shapes\n",
        "import pandas as pd\n",
        "import os\n",
        "import math\n",
        "from matplotlib import pyplot as plt"
      ],
      "execution_count": 1,
      "outputs": []
    },
    {
      "cell_type": "markdown",
      "metadata": {
        "id": "VhG3f8N7Kz8C"
      },
      "source": [
        "Mount google drive and set the path where our data is stored. We can also use local files but they are slower to upload"
      ]
    },
    {
      "cell_type": "code",
      "metadata": {
        "colab": {
          "base_uri": "https://localhost:8080/"
        },
        "id": "yyKYZJw2ftny",
        "outputId": "634c881d-8664-4040-adea-82d9fbed6d96"
      },
      "source": [
        "from google.colab import drive\n",
        "drive.mount('/content/drive')\n",
        "\n",
        "dir_path = \"drive/MyDrive/Colab Notebooks/SKAData/\""
      ],
      "execution_count": 2,
      "outputs": [
        {
          "output_type": "stream",
          "name": "stdout",
          "text": [
            "Drive already mounted at /content/drive; to attempt to forcibly remount, call drive.mount(\"/content/drive\", force_remount=True).\n"
          ]
        }
      ]
    },
    {
      "cell_type": "markdown",
      "metadata": {
        "id": "MThdpFTVLMUN"
      },
      "source": [
        "Get the fits file from the drive and extract the image"
      ]
    },
    {
      "cell_type": "code",
      "metadata": {
        "colab": {
          "base_uri": "https://localhost:8080/"
        },
        "id": "iDAB_s-6f2YZ",
        "outputId": "07970ce6-7b62-4f73-8b26-4dbe4feab30d"
      },
      "source": [
        "fits_img = fits.open(dir_path + \"SKAMid_B1_8h_v3.fits\")\n",
        "print(fits_img.info())\n",
        "fits_img = fits_img[0].data[0,0,:,:]\n",
        "fits_img = fits_img[16350:,16350:]"
      ],
      "execution_count": 3,
      "outputs": [
        {
          "output_type": "stream",
          "name": "stdout",
          "text": [
            "Filename: drive/MyDrive/Colab Notebooks/SKAData/SKAMid_B1_8h_v3.fits\n",
            "No.    Name      Ver    Type      Cards   Dimensions   Format\n",
            "  0  PRIMARY       1 PrimaryHDU     118   (32768, 32768, 1, 1)   float32   \n",
            "None\n"
          ]
        },
        {
          "output_type": "stream",
          "name": "stderr",
          "text": [
            "WARNING: VerifyWarning: Invalid 'BLANK' keyword in header.  The 'BLANK' keyword is only applicable to integer data, and will be ignored in this HDU. [astropy.io.fits.hdu.image]\n"
          ]
        }
      ]
    },
    {
      "cell_type": "markdown",
      "metadata": {
        "id": "eJHfUCDhLVMm"
      },
      "source": [
        "Parameter settings:\n",
        "since when using the entire image the RAM of the system fills easily, we can \n",
        "\n",
        "*   since, when using the entire image the RAM of the system fills easily, we can use the image_size variable to work only on a portion of the image\n",
        "*   cutout_size is the size of the squares in which the image is divided\n"
      ]
    },
    {
      "cell_type": "code",
      "metadata": {
        "id": "PnDJObBAhM6D"
      },
      "source": [
        "cutout_size = 218\n",
        "#image_size = 32700\n",
        "image_size = 13080\n",
        "#image_size = 4360\n",
        "cutouts_per_row = image_size//cutout_size"
      ],
      "execution_count": 4,
      "outputs": []
    },
    {
      "cell_type": "markdown",
      "metadata": {
        "id": "SKH_LPiML-46"
      },
      "source": [
        "Divide the image"
      ]
    },
    {
      "cell_type": "code",
      "metadata": {
        "id": "RzsaOnsbgcPc"
      },
      "source": [
        "cutouts = np.empty((cutouts_per_row**2,cutout_size,cutout_size, 1))\n",
        "\n",
        "for i in range(0,cutouts_per_row):\n",
        "  for j in range(0,cutouts_per_row):\n",
        "    cutouts[i*cutouts_per_row+j,:,:,0] = fits_img[i*cutout_size:i*cutout_size+cutout_size,j*cutout_size:j*cutout_size+cutout_size]\n",
        "\n",
        "del fits_img"
      ],
      "execution_count": 5,
      "outputs": []
    },
    {
      "cell_type": "code",
      "metadata": {
        "id": "khyWNJdefVkw"
      },
      "source": [
        "for i in range(len(cutouts)):\n",
        "  f = cutouts[i].flatten()\n",
        "  avg = np.mean(f)\n",
        "  std = np.std(f)\n",
        "  cutouts[i] = (cutouts[i] - avg) / std"
      ],
      "execution_count": 6,
      "outputs": []
    },
    {
      "cell_type": "markdown",
      "metadata": {
        "id": "AFDsawXMMEQ1"
      },
      "source": [
        "Upload the already filtered training set from the drive"
      ]
    },
    {
      "cell_type": "code",
      "metadata": {
        "colab": {
          "base_uri": "https://localhost:8080/"
        },
        "id": "2IwktO7GoJoa",
        "outputId": "e8e4349d-a4f0-4747-d389-08e5e4dd26f9"
      },
      "source": [
        "FilteredTrainingSet=pd.read_csv(dir_path + \"new_filtered_training_set.csv\",)\n",
        "#FilteredTrainingSet=pd.read_csv(dir_path + \"TrainingSet_B1_v2.txt\",skiprows=17,delimiter='\\s+')\n",
        "FilteredTrainingSet=FilteredTrainingSet[FilteredTrainingSet.columns[0:15]]\n",
        "FilteredTrainingSet.columns=['ID','RA (core)','DEC (core)','RA (centroid)','DEC (centroid)','FLUX','Core frac','BMAJ','BMIN','PA','SIZE','CLASS','SELECTION','x','y']\n",
        "FilteredTrainingSet['x']=FilteredTrainingSet['x'].astype(int)\n",
        "FilteredTrainingSet['y']=FilteredTrainingSet['y'].astype(int)\n",
        "FilteredTrainingSet['x']=FilteredTrainingSet['x']-16350\n",
        "FilteredTrainingSet['y']=FilteredTrainingSet['y']-16350\n",
        "FilteredTrainingSet = FilteredTrainingSet.set_index('ID')\n",
        "print(np.min(FilteredTrainingSet['y']),np.max(FilteredTrainingSet['y']),np.min(FilteredTrainingSet['x']),np.max(FilteredTrainingSet['x']))"
      ],
      "execution_count": 7,
      "outputs": [
        {
          "output_type": "stream",
          "name": "stdout",
          "text": [
            "382 3570 33 3520\n"
          ]
        }
      ]
    },
    {
      "cell_type": "markdown",
      "metadata": {
        "id": "OsN393jZMLrL"
      },
      "source": [
        "Generate images from the training set where each dot corresponds to a source"
      ]
    },
    {
      "cell_type": "code",
      "metadata": {
        "id": "N9MwLe-aiZlE"
      },
      "source": [
        "data=np.zeros((image_size,image_size,3), dtype=np.uint8 )\n",
        "for i in range(0,len(FilteredTrainingSet)):\n",
        "  x = int(FilteredTrainingSet['x'].iloc[i])\n",
        "  y = int(FilteredTrainingSet['y'].iloc[i])\n",
        "  c = int(FilteredTrainingSet['CLASS'].iloc[i]) - 1\n",
        "  data[y,x,c] = 1"
      ],
      "execution_count": 8,
      "outputs": []
    },
    {
      "cell_type": "markdown",
      "metadata": {
        "id": "8jCDOMcVMXdx"
      },
      "source": [
        "Divide the data generated images"
      ]
    },
    {
      "cell_type": "code",
      "metadata": {
        "id": "xUh2yKxqive7"
      },
      "source": [
        "data_array = np.empty((cutouts_per_row**2,cutout_size,cutout_size,3))\n",
        "\n",
        "for i in range(0,cutouts_per_row):\n",
        "  for j in range(0,cutouts_per_row):\n",
        "    data_array[i*cutouts_per_row+j] = data[i*cutout_size:i*cutout_size+cutout_size,j*cutout_size:j*cutout_size+cutout_size]\n",
        "\n",
        "del data"
      ],
      "execution_count": 9,
      "outputs": []
    },
    {
      "cell_type": "code",
      "metadata": {
        "id": "hkROL2jlkhRe"
      },
      "source": [
        "from tensorflow.keras.layers import Input, Dense, Conv2D, Dropout, BatchNormalization\n",
        "from tensorflow.keras.models import Model\n",
        "from tensorflow.keras import optimizers\n",
        "from tensorflow.keras.callbacks import EarlyStopping, ModelCheckpoint\n",
        "import matplotlib.pyplot as plt\n",
        "from sklearn.model_selection import train_test_split\n",
        "from keras import regularizers\n",
        "from tensorflow.data import Dataset"
      ],
      "execution_count": 10,
      "outputs": []
    },
    {
      "cell_type": "code",
      "metadata": {
        "id": "oaWDuKxXPwyd"
      },
      "source": [
        "train_x, test_x, train_y, test_y = train_test_split(cutouts, data_array, test_size=0.25, random_state=42,shuffle=True)\n",
        "del cutouts\n",
        "del data_array\n",
        "train_x, val_x, train_y, val_y = train_test_split(train_x, train_y, test_size=0.25, random_state=42,shuffle=True)"
      ],
      "execution_count": 11,
      "outputs": []
    },
    {
      "cell_type": "code",
      "metadata": {
        "colab": {
          "base_uri": "https://localhost:8080/"
        },
        "id": "JN0vq8qfmFSr",
        "outputId": "05a2de00-c4cb-4a02-ae76-dfd68922cb73"
      },
      "source": [
        "print(np.shape(val_y))"
      ],
      "execution_count": 12,
      "outputs": [
        {
          "output_type": "stream",
          "name": "stdout",
          "text": [
            "(675, 218, 218, 3)\n"
          ]
        }
      ]
    },
    {
      "cell_type": "markdown",
      "metadata": {
        "id": "4ZpUSd4CMgQi"
      },
      "source": [
        "Define the model\n",
        "\n",
        "> Indented block\n",
        "\n"
      ]
    },
    {
      "cell_type": "code",
      "metadata": {
        "colab": {
          "base_uri": "https://localhost:8080/"
        },
        "id": "Mm-8HUS_kiHy",
        "outputId": "ca981cf7-1ba0-45c3-fae7-a2c725d4a430"
      },
      "source": [
        "input_layer = Input(shape=(cutout_size, cutout_size, 1))\n",
        "x = Conv2D(16, (7, 7), strides=1, activation='relu', padding='same', name='conv1')(input_layer)\n",
        "#x = BatchNormalization()(x)\n",
        "x = Dropout(0.30)(x)\n",
        "x = Conv2D(32, (5, 5), strides=1, activation='relu', padding='same', name='conv2')(x)\n",
        "x = Conv2D(64, (3, 3), strides=1, activation='relu', padding='same', name='conv3')(x)\n",
        "output_layer = Dense(3,activation='softmax', name='dense')(x)\n",
        "#output_layer = Conv2D(3,(1,1),strides=1 ,activation='relu', padding = 'same')(x)\n",
        "\n",
        "myCNN = Model(input_layer,output_layer)\n",
        "adadelta = optimizers.Adadelta(learning_rate=0.002, decay=0.0, rho=0.99)\n",
        "myCNN.compile(optimizer=adadelta, loss='categorical_crossentropy', metrics=['accuracy'])\n",
        "\n",
        "es = EarlyStopping(monitor='val_loss', patience=3, verbose=1, mode='auto')\n",
        "cp = ModelCheckpoint(filepath = 'best_model.hdf5', monitor='val_loss', verbose=1, save_best_only=True, mode='auto')\n",
        "\n",
        "print(myCNN.summary())"
      ],
      "execution_count": 13,
      "outputs": [
        {
          "output_type": "stream",
          "name": "stdout",
          "text": [
            "Model: \"model\"\n",
            "_________________________________________________________________\n",
            "Layer (type)                 Output Shape              Param #   \n",
            "=================================================================\n",
            "input_1 (InputLayer)         [(None, 218, 218, 1)]     0         \n",
            "_________________________________________________________________\n",
            "conv1 (Conv2D)               (None, 218, 218, 16)      800       \n",
            "_________________________________________________________________\n",
            "dropout (Dropout)            (None, 218, 218, 16)      0         \n",
            "_________________________________________________________________\n",
            "conv2 (Conv2D)               (None, 218, 218, 32)      12832     \n",
            "_________________________________________________________________\n",
            "conv3 (Conv2D)               (None, 218, 218, 64)      18496     \n",
            "_________________________________________________________________\n",
            "dense (Dense)                (None, 218, 218, 3)       195       \n",
            "=================================================================\n",
            "Total params: 32,323\n",
            "Trainable params: 32,323\n",
            "Non-trainable params: 0\n",
            "_________________________________________________________________\n",
            "None\n"
          ]
        }
      ]
    },
    {
      "cell_type": "code",
      "metadata": {
        "colab": {
          "base_uri": "https://localhost:8080/",
          "height": 644
        },
        "id": "H7YojzbMM4Y7",
        "outputId": "4087db4d-43c2-4b80-8020-c7da60b31368"
      },
      "source": [
        "from tensorflow.keras.utils import plot_model\n",
        "\n",
        "plot_model(myCNN,show_shapes=True)"
      ],
      "execution_count": 14,
      "outputs": [
        {
          "output_type": "execute_result",
          "data": {
            "image/png": "[encoded data removed]",
            "text/plain": [
              "<IPython.core.display.Image object>"
            ]
          },
          "metadata": {},
          "execution_count": 14
        }
      ]
    },
    {
      "cell_type": "markdown",
      "metadata": {
        "id": "AW6U5DlTM0IN"
      },
      "source": [
        "Training of our model"
      ]
    },
    {
      "cell_type": "code",
      "metadata": {
        "id": "OfEGAhFLdbwF"
      },
      "source": [
        "batch_size = 32"
      ],
      "execution_count": 15,
      "outputs": []
    },
    {
      "cell_type": "code",
      "metadata": {
        "colab": {
          "base_uri": "https://localhost:8080/"
        },
        "id": "RIkFalEzofpj",
        "outputId": "34aa1fa4-4a31-4a41-dcda-7701750ccabb"
      },
      "source": [
        "print(np.shape(val_y))"
      ],
      "execution_count": 16,
      "outputs": [
        {
          "output_type": "stream",
          "name": "stdout",
          "text": [
            "(675, 218, 218, 3)\n"
          ]
        }
      ]
    },
    {
      "cell_type": "code",
      "metadata": {
        "colab": {
          "base_uri": "https://localhost:8080/"
        },
        "id": "Jxu37M9fk5Kt",
        "outputId": "611dc883-0a4a-4274-e22a-90f2d45a0429"
      },
      "source": [
        "base_history = myCNN.fit(train_x, train_y, epochs=10, batch_size=batch_size, shuffle=True, validation_data=(val_x, val_y), verbose=1, callbacks=[es, cp])"
      ],
      "execution_count": 17,
      "outputs": [
        {
          "output_type": "stream",
          "name": "stdout",
          "text": [
            "Epoch 1/10\n",
            "64/64 [==============================] - 726s 11s/step - loss: 1.8243e-04 - accuracy: 0.8692 - val_loss: 1.9318e-04 - val_accuracy: 0.8900\n",
            "\n",
            "Epoch 00001: val_loss improved from inf to 0.00019, saving model to best_model.hdf5\n",
            "Epoch 2/10\n",
            "64/64 [==============================] - 734s 11s/step - loss: 1.8154e-04 - accuracy: 0.8748 - val_loss: 1.9244e-04 - val_accuracy: 0.8950\n",
            "\n",
            "Epoch 00002: val_loss improved from 0.00019 to 0.00019, saving model to best_model.hdf5\n",
            "Epoch 3/10\n",
            "64/64 [==============================] - 713s 11s/step - loss: 1.8140e-04 - accuracy: 0.8783 - val_loss: 1.9220e-04 - val_accuracy: 0.8969\n",
            "\n",
            "Epoch 00003: val_loss improved from 0.00019 to 0.00019, saving model to best_model.hdf5\n",
            "Epoch 4/10\n",
            "64/64 [==============================] - 716s 11s/step - loss: 1.8184e-04 - accuracy: 0.8764 - val_loss: 1.9184e-04 - val_accuracy: 0.8925\n",
            "\n",
            "Epoch 00004: val_loss improved from 0.00019 to 0.00019, saving model to best_model.hdf5\n",
            "Epoch 5/10\n",
            "64/64 [==============================] - 721s 11s/step - loss: 1.8125e-04 - accuracy: 0.8626 - val_loss: 1.9012e-04 - val_accuracy: 0.8737\n",
            "\n",
            "Epoch 00005: val_loss improved from 0.00019 to 0.00019, saving model to best_model.hdf5\n",
            "Epoch 6/10\n",
            "64/64 [==============================] - 723s 11s/step - loss: 1.7930e-04 - accuracy: 0.8247 - val_loss: 1.8595e-04 - val_accuracy: 0.8256\n",
            "\n",
            "Epoch 00006: val_loss improved from 0.00019 to 0.00019, saving model to best_model.hdf5\n",
            "Epoch 7/10\n",
            "64/64 [==============================] - 751s 12s/step - loss: 1.7195e-04 - accuracy: 0.7438 - val_loss: 1.7458e-04 - val_accuracy: 0.7148\n",
            "\n",
            "Epoch 00007: val_loss improved from 0.00019 to 0.00017, saving model to best_model.hdf5\n",
            "Epoch 8/10\n",
            "64/64 [==============================] - 739s 12s/step - loss: 1.5651e-04 - accuracy: 0.5755 - val_loss: 1.5267e-04 - val_accuracy: 0.4468\n",
            "\n",
            "Epoch 00008: val_loss improved from 0.00017 to 0.00015, saving model to best_model.hdf5\n",
            "Epoch 9/10\n",
            "64/64 [==============================] - 721s 11s/step - loss: 1.4329e-04 - accuracy: 0.4152 - val_loss: 1.4618e-04 - val_accuracy: 0.3636\n",
            "\n",
            "Epoch 00009: val_loss improved from 0.00015 to 0.00015, saving model to best_model.hdf5\n",
            "Epoch 10/10\n",
            "64/64 [==============================] - 712s 11s/step - loss: 0.0995 - accuracy: 0.3601 - val_loss: 0.2645 - val_accuracy: 1.3701e-04\n",
            "\n",
            "Epoch 00010: val_loss did not improve from 0.00015\n"
          ]
        }
      ]
    },
    {
      "cell_type": "code",
      "metadata": {
        "id": "6X3bSLPe3B7U"
      },
      "source": [
        "myCNN.save('base_model.h5')"
      ],
      "execution_count": 18,
      "outputs": []
    },
    {
      "cell_type": "code",
      "metadata": {
        "colab": {
          "base_uri": "https://localhost:8080/"
        },
        "id": "QPkkLBpXp1Kh",
        "outputId": "b5b7717b-bc10-4c35-e67f-13fb48dcc932"
      },
      "source": [
        "print(base_history.history.keys())"
      ],
      "execution_count": 19,
      "outputs": [
        {
          "output_type": "stream",
          "name": "stdout",
          "text": [
            "dict_keys(['loss', 'accuracy', 'val_loss', 'val_accuracy'])\n"
          ]
        }
      ]
    },
    {
      "cell_type": "code",
      "metadata": {
        "id": "5P5IubkJk6Fm"
      },
      "source": [
        "def plot_history(model_history,keys):\n",
        "    m,val_m = keys\n",
        "    plt.plot(model_history.history[m])\n",
        "    plt.plot(model_history.history[val_m])\n",
        "    plt.ylabel(m)\n",
        "    plt.xlabel('epoch')\n",
        "    plt.legend(['train', 'test'], loc='upper left')\n",
        "    plt.show()"
      ],
      "execution_count": 20,
      "outputs": []
    },
    {
      "cell_type": "code",
      "metadata": {
        "colab": {
          "base_uri": "https://localhost:8080/",
          "height": 279
        },
        "id": "fqfu4LrUlASg",
        "outputId": "76bc6ef7-8e5c-44ec-b446-35dc8235f070"
      },
      "source": [
        "plot_history(base_history,['loss','val_loss'])"
      ],
      "execution_count": 21,
      "outputs": [
        {
          "output_type": "display_data",
          "data": {
            "image/png": "[encoded data removed]",
            "text/plain": [
              "<Figure size 432x288 with 1 Axes>"
            ]
          },
          "metadata": {
            "needs_background": "light"
          }
        }
      ]
    },
    {
      "cell_type": "code",
      "metadata": {
        "colab": {
          "base_uri": "https://localhost:8080/",
          "height": 279
        },
        "id": "d4omIcY0eGAn",
        "outputId": "adf7015a-237b-4830-9e49-d08f32adc208"
      },
      "source": [
        "plot_history(base_history,['accuracy','val_accuracy'])"
      ],
      "execution_count": 22,
      "outputs": [
        {
          "output_type": "display_data",
          "data": {
            "image/png": "[encoded data removed]",
            "text/plain": [
              "<Figure size 432x288 with 1 Axes>"
            ]
          },
          "metadata": {
            "needs_background": "light"
          }
        }
      ]
    },
    {
      "cell_type": "code",
      "metadata": {
        "id": "SDkvdHolUUX8"
      },
      "source": [
        "n = 3\n",
        "\n",
        "plt.imshow(test_x[n][:,:,0])\n",
        "plt.show()\n",
        "\n",
        "fig = plt.figure(figsize=(15,5))\n",
        "fig.suptitle('test images')\n",
        "fig.add_subplot(1,3,1)\n",
        "plt.imshow(test_y[n][:,:,0])\n",
        "fig.add_subplot(1,3,2)\n",
        "plt.imshow(test_y[n][:,:,1])\n",
        "fig.add_subplot(1,3,3)\n",
        "plt.imshow(test_y[n][:,:,2])\n",
        "plt.show()\n",
        "\n",
        "a = test_y[n][:,:,0]+test_y[n][:,:,1]+test_y[n][:,:,2]\n",
        "plt.imshow(a)\n",
        "plt.show()"
      ],
      "execution_count": null,
      "outputs": []
    },
    {
      "cell_type": "code",
      "metadata": {
        "id": "W3v_Yhg8pNpw"
      },
      "source": [
        "plt.imshow(test_x[12][:,:,0])\n",
        "plt.show()\n",
        "\n",
        "fig = plt.figure(figsize=(15,5))\n",
        "fig.suptitle('test images')\n",
        "fig.add_subplot(1,3,1)\n",
        "plt.imshow(test_y[12][:,:,0])\n",
        "fig.add_subplot(1,3,2)\n",
        "plt.imshow(test_y[12][:,:,1])\n",
        "fig.add_subplot(1,3,3)\n",
        "plt.imshow(test_y[12][:,:,2])\n",
        "plt.show()\n",
        "\n",
        "t = myCNN.predict(test_x[12:13])[0]\n",
        "\n",
        "fig = plt.figure(figsize=(15,5))\n",
        "fig.suptitle('predicted images')\n",
        "fig.add_subplot(1,3,1)\n",
        "plt.imshow(t[:,:,0])\n",
        "fig.add_subplot(1,3,2)\n",
        "plt.imshow(t[:,:,1])\n",
        "fig.add_subplot(1,3,3)\n",
        "plt.imshow(t[:,:,2])\n",
        "plt.show()"
      ],
      "execution_count": null,
      "outputs": []
    },
    {
      "cell_type": "markdown",
      "metadata": {
        "id": "pECkDxwWh_rt"
      },
      "source": [
        "**Performance evaluation**"
      ]
    },
    {
      "cell_type": "code",
      "metadata": {
        "id": "INq5vK-Zh-f4"
      },
      "source": [
        "train_y_pred = myCNN.predict(train_x)\n",
        "val_y_pred = myCNN.predict(val_x)\n",
        "test_y_pred = myCNN.predict(test_x)\n",
        "\n",
        "print('Train predictions shape: ',train_y_pred.shape)\n",
        "print('Validation predictions shape: ',val_y_pred.shape)\n",
        "print('Test predictions shape: ',test_y_pred.shape)"
      ],
      "execution_count": null,
      "outputs": []
    }
  ]
}