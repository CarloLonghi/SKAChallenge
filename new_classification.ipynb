{
  "nbformat": 4,
  "nbformat_minor": 0,
  "metadata": {
    "colab": {
      "name": "new_classification.ipynb",
      "provenance": [],
      "collapsed_sections": []
    },
    "kernelspec": {
      "display_name": "Python 3",
      "name": "python3"
    },
    "language_info": {
      "name": "python"
    }
  },
  "cells": [
    {
      "cell_type": "code",
      "metadata": {
        "id": "R78ZNpQFfoxb"
      },
      "source": [
        "import numpy as np\n",
        "from astropy.io import fits\n",
        "from numpy.lib.function_base import _calculate_shapes\n",
        "import pandas as pd\n",
        "import os\n",
        "import math\n",
        "from matplotlib import pyplot as plt"
      ],
      "execution_count": 1,
      "outputs": []
    },
    {
      "cell_type": "markdown",
      "metadata": {
        "id": "VhG3f8N7Kz8C"
      },
      "source": [
        "Mount google drive and set the path where our data is stored. We can also use local files but they are slower to upload"
      ]
    },
    {
      "cell_type": "code",
      "metadata": {
        "colab": {
          "base_uri": "https://localhost:8080/"
        },
        "id": "yyKYZJw2ftny",
        "outputId": "5a22ab08-5360-4c0d-f918-02f93933965a"
      },
      "source": [
        "from google.colab import drive\n",
        "drive.mount('/content/drive')\n",
        "\n",
        "dir_path = \"drive/MyDrive/Colab Notebooks/SKAData/\""
      ],
      "execution_count": 2,
      "outputs": [
        {
          "output_type": "stream",
          "name": "stdout",
          "text": [
            "Mounted at /content/drive\n"
          ]
        }
      ]
    },
    {
      "cell_type": "markdown",
      "metadata": {
        "id": "MThdpFTVLMUN"
      },
      "source": [
        "Get the fits file from the drive and extract the image"
      ]
    },
    {
      "cell_type": "code",
      "metadata": {
        "colab": {
          "base_uri": "https://localhost:8080/"
        },
        "id": "iDAB_s-6f2YZ",
        "outputId": "867be86e-fc17-4a41-9d1e-01b34d4b2d43"
      },
      "source": [
        "fits_img = fits.open(dir_path + \"SKAMid_B1_8h_v3.fits\")\n",
        "print(fits_img.info())\n",
        "fits_img = fits_img[0].data[0,0,:,:]\n",
        "fits_img = fits_img[16300:20300,16300:20300]"
      ],
      "execution_count": 3,
      "outputs": [
        {
          "output_type": "stream",
          "name": "stderr",
          "text": [
            "WARNING: VerifyWarning: Invalid 'BLANK' keyword in header.  The 'BLANK' keyword is only applicable to integer data, and will be ignored in this HDU. [astropy.io.fits.hdu.image]\n"
          ]
        },
        {
          "output_type": "stream",
          "name": "stdout",
          "text": [
            "Filename: drive/MyDrive/Colab Notebooks/SKAData/SKAMid_B1_8h_v3.fits\n",
            "No.    Name      Ver    Type      Cards   Dimensions   Format\n",
            "  0  PRIMARY       1 PrimaryHDU     118   (32768, 32768, 1, 1)   float32   \n",
            "None\n"
          ]
        }
      ]
    },
    {
      "cell_type": "markdown",
      "metadata": {
        "id": "eJHfUCDhLVMm"
      },
      "source": [
        "Parameter settings:\n",
        "\n",
        "*   since, when using the entire image the RAM of the system fills easily, we can use the image_size variable to work only on a portion of the image\n",
        "*   cutout_size is the size of the squares in which the image is divided\n"
      ]
    },
    {
      "cell_type": "code",
      "metadata": {
        "id": "PnDJObBAhM6D"
      },
      "source": [
        "cutout_size = 52\n",
        "image_size = 4000\n",
        "cutouts_per_row = image_size//cutout_size"
      ],
      "execution_count": 4,
      "outputs": []
    },
    {
      "cell_type": "markdown",
      "metadata": {
        "id": "6dhtUd3rJ4b8"
      },
      "source": [
        "**Data Normalization**"
      ]
    },
    {
      "cell_type": "code",
      "metadata": {
        "id": "ek2j5VzR2zvT"
      },
      "source": [
        "f = fits_img.flatten()\n",
        "avg = np.mean(f)\n",
        "std = np.mean(f)\n",
        "fits_img = (fits_img - avg) / std"
      ],
      "execution_count": 5,
      "outputs": []
    },
    {
      "cell_type": "markdown",
      "metadata": {
        "id": "SKH_LPiML-46"
      },
      "source": [
        "Divide the image"
      ]
    },
    {
      "cell_type": "code",
      "metadata": {
        "id": "RzsaOnsbgcPc"
      },
      "source": [
        "cutouts = np.empty((cutouts_per_row**2,cutout_size,cutout_size))\n",
        "\n",
        "for i in range(0,cutouts_per_row):\n",
        "  for j in range(0,cutouts_per_row):\n",
        "    cutouts[i*cutouts_per_row+j] = fits_img[i*cutout_size:i*cutout_size+cutout_size,j*cutout_size:j*cutout_size+cutout_size]\n",
        "\n",
        "del fits_img"
      ],
      "execution_count": 6,
      "outputs": []
    },
    {
      "cell_type": "markdown",
      "metadata": {
        "id": "AFDsawXMMEQ1"
      },
      "source": [
        "Upload the already filtered training set from the drive"
      ]
    },
    {
      "cell_type": "code",
      "metadata": {
        "id": "2IwktO7GoJoa",
        "colab": {
          "base_uri": "https://localhost:8080/"
        },
        "outputId": "ffec89fb-00ba-4859-946c-93328613ad88"
      },
      "source": [
        "FilteredTrainingSet=pd.read_csv(dir_path + \"filtered_training_set.csv\",)\n",
        "#FilteredTrainingSet=pd.read_csv(dir_path + \"TrainingSet_B1_v2.txt\",skiprows=17,delimiter='\\s+')\n",
        "FilteredTrainingSet=FilteredTrainingSet[FilteredTrainingSet.columns[0:15]]\n",
        "FilteredTrainingSet.columns=['ID','RA (core)','DEC (core)','RA (centroid)','DEC (centroid)','FLUX','Core frac','BMAJ','BMIN','PA','SIZE','CLASS','SELECTION','x','y']\n",
        "FilteredTrainingSet['x']=FilteredTrainingSet['x'].astype(int)\n",
        "FilteredTrainingSet['y']=FilteredTrainingSet['y'].astype(int)\n",
        "FilteredTrainingSet['x']=FilteredTrainingSet['x']-16300\n",
        "FilteredTrainingSet['y']=FilteredTrainingSet['y']-16300\n",
        "FilteredTrainingSet = FilteredTrainingSet.set_index('ID')\n",
        "print(np.min(FilteredTrainingSet['y']),np.max(FilteredTrainingSet['y']),np.min(FilteredTrainingSet['x']),np.max(FilteredTrainingSet['x']))"
      ],
      "execution_count": 7,
      "outputs": [
        {
          "output_type": "stream",
          "name": "stdout",
          "text": [
            "432 3620 83 3570\n"
          ]
        }
      ]
    },
    {
      "cell_type": "markdown",
      "metadata": {
        "id": "OsN393jZMLrL"
      },
      "source": [
        "Generate images from the training set where each dot corresponds to a source"
      ]
    },
    {
      "cell_type": "code",
      "metadata": {
        "id": "N9MwLe-aiZlE"
      },
      "source": [
        "data=np.zeros((image_size,image_size,3), dtype=np.uint8 )\n",
        "for i in range(0,len(FilteredTrainingSet)):\n",
        "  x = int(FilteredTrainingSet['x'].iloc[i])\n",
        "  y = int(FilteredTrainingSet['y'].iloc[i])\n",
        "  c = int(FilteredTrainingSet['CLASS'].iloc[i]) - 1\n",
        "  data[y,x,c] = 1"
      ],
      "execution_count": 8,
      "outputs": []
    },
    {
      "cell_type": "code",
      "metadata": {
        "colab": {
          "base_uri": "https://localhost:8080/"
        },
        "id": "May5cUTvzCsp",
        "outputId": "7ca96e6c-9056-4aac-f42e-8d1dac3c4f7d"
      },
      "source": [
        "background = np.ones((image_size, image_size, 1), dtype = np.uint8)\n",
        "for i in range(0,len(FilteredTrainingSet)):\n",
        "  x = int(FilteredTrainingSet['x'].iloc[i])\n",
        "  y = int(FilteredTrainingSet['y'].iloc[i])\n",
        "  background [y,x] = 0\n",
        "\n",
        "data = np.concatenate((data,background), axis = 2)\n",
        "np.shape(data)"
      ],
      "execution_count": 9,
      "outputs": [
        {
          "output_type": "execute_result",
          "data": {
            "text/plain": [
              "(4000, 4000, 4)"
            ]
          },
          "metadata": {},
          "execution_count": 9
        }
      ]
    },
    {
      "cell_type": "markdown",
      "metadata": {
        "id": "8jCDOMcVMXdx"
      },
      "source": [
        "Divide the data generated images"
      ]
    },
    {
      "cell_type": "code",
      "metadata": {
        "id": "xUh2yKxqive7"
      },
      "source": [
        "data_array = np.empty((cutouts_per_row**2,cutout_size,cutout_size,4))\n",
        "\n",
        "for i in range(0,cutouts_per_row):\n",
        "  for j in range(0,cutouts_per_row):\n",
        "    data_array[i*cutouts_per_row+j] = data[i*cutout_size:i*cutout_size+cutout_size,j*cutout_size:j*cutout_size+cutout_size]\n",
        "\n",
        "del data"
      ],
      "execution_count": 10,
      "outputs": []
    },
    {
      "cell_type": "code",
      "metadata": {
        "id": "hkROL2jlkhRe"
      },
      "source": [
        "from tensorflow.keras.layers import Input, Dense, Conv2D, Dropout, BatchNormalization, MaxPool2D, UpSampling2D\n",
        "from tensorflow.keras.models import Model\n",
        "from tensorflow.keras import optimizers\n",
        "from tensorflow.keras.callbacks import EarlyStopping, ModelCheckpoint\n",
        "import matplotlib.pyplot as plt\n",
        "from sklearn.model_selection import train_test_split\n",
        "from keras import regularizers"
      ],
      "execution_count": 11,
      "outputs": []
    },
    {
      "cell_type": "markdown",
      "metadata": {
        "id": "ZUpjcZNJJ_gb"
      },
      "source": [
        "Divide the dataset in train,validation and test sets"
      ]
    },
    {
      "cell_type": "code",
      "metadata": {
        "id": "oaWDuKxXPwyd"
      },
      "source": [
        "train_x, test_x, train_y, test_y = train_test_split(cutouts, data_array, test_size=0.2, random_state=42,shuffle=True)\n",
        "train_x, val_x, train_y, val_y = train_test_split(train_x, train_y, test_size=0.2, random_state=42,shuffle=True)"
      ],
      "execution_count": 12,
      "outputs": []
    },
    {
      "cell_type": "markdown",
      "metadata": {
        "id": "77UJbtAGKE4y"
      },
      "source": [
        "Define custom layer for REFLECT padding"
      ]
    },
    {
      "cell_type": "code",
      "metadata": {
        "id": "RxXOEOBztHWi"
      },
      "source": [
        "from tensorflow.keras.layers import Layer, InputSpec\n",
        "import tensorflow \n",
        "\n",
        "class ReflectionPadding2D(Layer):\n",
        "    def __init__(self, padding=(1, 1), **kwargs):\n",
        "        self.padding = tuple(padding)\n",
        "        self.input_spec = [InputSpec(ndim=4)]\n",
        "        super(ReflectionPadding2D, self).__init__(**kwargs)\n",
        "\n",
        "    def compute_output_shape(self, s):\n",
        "        \"\"\" If you are using \"channels_last\" configuration\"\"\"\n",
        "        return (s[0], s[1] + 2 * self.padding[0], s[2] + 2 * self.padding[1], s[3])\n",
        "\n",
        "    def call(self, x, mask=None):\n",
        "        w_pad,h_pad = self.padding\n",
        "        return tensorflow.pad(x, [[0,0], [h_pad,h_pad], [w_pad,w_pad], [0,0] ], 'REFLECT')\n",
        "\n",
        "    def get_config(self):\n",
        "\n",
        "        config = super().get_config().copy()\n",
        "        config.update({\n",
        "            'padding' : self.padding\n",
        "        })\n",
        "        return config"
      ],
      "execution_count": 13,
      "outputs": []
    },
    {
      "cell_type": "markdown",
      "metadata": {
        "id": "4ZpUSd4CMgQi"
      },
      "source": [
        "Define the model"
      ]
    },
    {
      "cell_type": "code",
      "metadata": {
        "colab": {
          "base_uri": "https://localhost:8080/"
        },
        "id": "Mm-8HUS_kiHy",
        "outputId": "9e9729f0-d361-4655-e32b-0349244f4287"
      },
      "source": [
        "input_layer = Input(shape=(cutout_size, cutout_size, 1))\n",
        "x = ReflectionPadding2D(padding = (3,3))(input_layer)\n",
        "#dropout batch normalization\n",
        "x = Conv2D(16, (7, 7), strides=1, activation='relu')(x)\n",
        "x = ReflectionPadding2D(padding = (2,2))(x)\n",
        "x = Conv2D(32, (5, 5), strides=1, activation='relu')(x)\n",
        "x = ReflectionPadding2D(padding = (1,1))(x)\n",
        "x = Conv2D(64, (3, 3), strides=1, activation='relu')(x)\n",
        "output_layer = Dense(4,activation='softmax')(x)\n",
        "\n",
        "myCNN = Model(input_layer,output_layer)\n",
        "adadelta = optimizers.Adadelta(learning_rate=1.0, decay=0.0, rho=0.99)\n",
        "adam = optimizers.Adam(learning_rate=0.0001,beta_1=0.9, beta_2=0.999, epsilon=1e-07,)\n",
        "myCNN.compile(optimizer=adam, loss='categorical_crossentropy', metrics=['accuracy'])\n",
        "\n",
        "es = EarlyStopping(monitor='val_loss', patience=3, verbose=1, mode='auto')\n",
        "cp = ModelCheckpoint(filepath = 'best_model.hdf5', monitor='val_loss', verbose=1, save_best_only=True, mode='auto')\n",
        "\n",
        "print(myCNN.summary())"
      ],
      "execution_count": 28,
      "outputs": [
        {
          "output_type": "stream",
          "name": "stdout",
          "text": [
            "Model: \"model_2\"\n",
            "_________________________________________________________________\n",
            "Layer (type)                 Output Shape              Param #   \n",
            "=================================================================\n",
            "input_3 (InputLayer)         [(None, 52, 52, 1)]       0         \n",
            "_________________________________________________________________\n",
            "reflection_padding2d_7 (Refl (None, 58, 58, 1)         0         \n",
            "_________________________________________________________________\n",
            "conv2d_7 (Conv2D)            (None, 52, 52, 16)        800       \n",
            "_________________________________________________________________\n",
            "reflection_padding2d_8 (Refl (None, 56, 56, 16)        0         \n",
            "_________________________________________________________________\n",
            "conv2d_8 (Conv2D)            (None, 52, 52, 32)        12832     \n",
            "_________________________________________________________________\n",
            "reflection_padding2d_9 (Refl (None, 54, 54, 32)        0         \n",
            "_________________________________________________________________\n",
            "conv2d_9 (Conv2D)            (None, 52, 52, 64)        18496     \n",
            "_________________________________________________________________\n",
            "dense_2 (Dense)              (None, 52, 52, 4)         260       \n",
            "=================================================================\n",
            "Total params: 32,388\n",
            "Trainable params: 32,388\n",
            "Non-trainable params: 0\n",
            "_________________________________________________________________\n",
            "None\n"
          ]
        }
      ]
    },
    {
      "cell_type": "code",
      "metadata": {
        "id": "H7YojzbMM4Y7"
      },
      "source": [
        "from tensorflow.keras.utils import plot_model\n",
        "\n",
        "plot_model(myCNN,show_shapes=True)"
      ],
      "execution_count": null,
      "outputs": []
    },
    {
      "cell_type": "markdown",
      "metadata": {
        "id": "AW6U5DlTM0IN"
      },
      "source": [
        "Training of our model"
      ]
    },
    {
      "cell_type": "code",
      "metadata": {
        "id": "OfEGAhFLdbwF"
      },
      "source": [
        "batch_size = 32"
      ],
      "execution_count": 15,
      "outputs": []
    },
    {
      "cell_type": "code",
      "metadata": {
        "colab": {
          "base_uri": "https://localhost:8080/"
        },
        "id": "Jxu37M9fk5Kt",
        "outputId": "36c045bc-9e9d-4d11-f27b-9cc6acf372c4"
      },
      "source": [
        "base_history = myCNN.fit(train_x, train_y, epochs=20, batch_size=batch_size, shuffle=True, validation_data=(val_x, val_y), verbose=1, callbacks=[es, cp])"
      ],
      "execution_count": 29,
      "outputs": [
        {
          "output_type": "stream",
          "name": "stdout",
          "text": [
            "Epoch 1/20\n",
            "116/116 [==============================] - 74s 632ms/step - loss: 0.1136 - accuracy: 0.9660 - val_loss: 0.0194 - val_accuracy: 0.9985\n",
            "\n",
            "Epoch 00001: val_loss improved from inf to 0.01940, saving model to best_model.hdf5\n",
            "Epoch 2/20\n",
            "116/116 [==============================] - 75s 649ms/step - loss: 0.0181 - accuracy: 0.9985 - val_loss: 0.0147 - val_accuracy: 0.9985\n",
            "\n",
            "Epoch 00002: val_loss improved from 0.01940 to 0.01469, saving model to best_model.hdf5\n",
            "Epoch 3/20\n",
            "116/116 [==============================] - 74s 642ms/step - loss: 0.0143 - accuracy: 0.9985 - val_loss: 0.0127 - val_accuracy: 0.9985\n",
            "\n",
            "Epoch 00003: val_loss improved from 0.01469 to 0.01265, saving model to best_model.hdf5\n",
            "Epoch 4/20\n",
            "116/116 [==============================] - 74s 638ms/step - loss: 0.0131 - accuracy: 0.9984 - val_loss: 0.0120 - val_accuracy: 0.9985\n",
            "\n",
            "Epoch 00004: val_loss improved from 0.01265 to 0.01204, saving model to best_model.hdf5\n",
            "Epoch 5/20\n",
            "116/116 [==============================] - 73s 632ms/step - loss: 0.0124 - accuracy: 0.9985 - val_loss: 0.0116 - val_accuracy: 0.9985\n",
            "\n",
            "Epoch 00005: val_loss improved from 0.01204 to 0.01156, saving model to best_model.hdf5\n",
            "Epoch 6/20\n",
            "116/116 [==============================] - 73s 634ms/step - loss: 0.0120 - accuracy: 0.9985 - val_loss: 0.0112 - val_accuracy: 0.9985\n",
            "\n",
            "Epoch 00006: val_loss improved from 0.01156 to 0.01122, saving model to best_model.hdf5\n",
            "Epoch 7/20\n",
            "116/116 [==============================] - 73s 629ms/step - loss: 0.0116 - accuracy: 0.9985 - val_loss: 0.0110 - val_accuracy: 0.9985\n",
            "\n",
            "Epoch 00007: val_loss improved from 0.01122 to 0.01095, saving model to best_model.hdf5\n",
            "Epoch 8/20\n",
            "116/116 [==============================] - 73s 629ms/step - loss: 0.0113 - accuracy: 0.9985 - val_loss: 0.0108 - val_accuracy: 0.9985\n",
            "\n",
            "Epoch 00008: val_loss improved from 0.01095 to 0.01078, saving model to best_model.hdf5\n",
            "Epoch 9/20\n",
            "116/116 [==============================] - 73s 628ms/step - loss: 0.0110 - accuracy: 0.9985 - val_loss: 0.0106 - val_accuracy: 0.9985\n",
            "\n",
            "Epoch 00009: val_loss improved from 0.01078 to 0.01059, saving model to best_model.hdf5\n",
            "Epoch 10/20\n",
            "116/116 [==============================] - 73s 628ms/step - loss: 0.0108 - accuracy: 0.9985 - val_loss: 0.0105 - val_accuracy: 0.9985\n",
            "\n",
            "Epoch 00010: val_loss improved from 0.01059 to 0.01047, saving model to best_model.hdf5\n",
            "Epoch 11/20\n",
            "116/116 [==============================] - 73s 629ms/step - loss: 0.0107 - accuracy: 0.9985 - val_loss: 0.0104 - val_accuracy: 0.9985\n",
            "\n",
            "Epoch 00011: val_loss improved from 0.01047 to 0.01037, saving model to best_model.hdf5\n",
            "Epoch 12/20\n",
            "116/116 [==============================] - 73s 630ms/step - loss: 0.0106 - accuracy: 0.9985 - val_loss: 0.0103 - val_accuracy: 0.9985\n",
            "\n",
            "Epoch 00012: val_loss improved from 0.01037 to 0.01028, saving model to best_model.hdf5\n",
            "Epoch 13/20\n",
            "116/116 [==============================] - 73s 629ms/step - loss: 0.0105 - accuracy: 0.9985 - val_loss: 0.0102 - val_accuracy: 0.9985\n",
            "\n",
            "Epoch 00013: val_loss improved from 0.01028 to 0.01020, saving model to best_model.hdf5\n",
            "Epoch 14/20\n",
            "116/116 [==============================] - 73s 628ms/step - loss: 0.0104 - accuracy: 0.9985 - val_loss: 0.0101 - val_accuracy: 0.9985\n",
            "\n",
            "Epoch 00014: val_loss improved from 0.01020 to 0.01013, saving model to best_model.hdf5\n",
            "Epoch 15/20\n",
            "116/116 [==============================] - 73s 631ms/step - loss: 0.0103 - accuracy: 0.9985 - val_loss: 0.0101 - val_accuracy: 0.9985\n",
            "\n",
            "Epoch 00015: val_loss improved from 0.01013 to 0.01008, saving model to best_model.hdf5\n",
            "Epoch 16/20\n",
            "116/116 [==============================] - 73s 630ms/step - loss: 0.0102 - accuracy: 0.9985 - val_loss: 0.0100 - val_accuracy: 0.9985\n",
            "\n",
            "Epoch 00016: val_loss improved from 0.01008 to 0.01000, saving model to best_model.hdf5\n",
            "Epoch 17/20\n",
            "116/116 [==============================] - 73s 629ms/step - loss: 0.0101 - accuracy: 0.9985 - val_loss: 0.0099 - val_accuracy: 0.9985\n",
            "\n",
            "Epoch 00017: val_loss improved from 0.01000 to 0.00995, saving model to best_model.hdf5\n",
            "Epoch 18/20\n",
            "116/116 [==============================] - 73s 630ms/step - loss: 0.0101 - accuracy: 0.9985 - val_loss: 0.0099 - val_accuracy: 0.9985\n",
            "\n",
            "Epoch 00018: val_loss improved from 0.00995 to 0.00987, saving model to best_model.hdf5\n",
            "Epoch 19/20\n",
            "116/116 [==============================] - 73s 632ms/step - loss: 0.0100 - accuracy: 0.9985 - val_loss: 0.0098 - val_accuracy: 0.9985\n",
            "\n",
            "Epoch 00019: val_loss improved from 0.00987 to 0.00981, saving model to best_model.hdf5\n",
            "Epoch 20/20\n",
            "116/116 [==============================] - 73s 631ms/step - loss: 0.0099 - accuracy: 0.9985 - val_loss: 0.0098 - val_accuracy: 0.9985\n",
            "\n",
            "Epoch 00020: val_loss improved from 0.00981 to 0.00977, saving model to best_model.hdf5\n"
          ]
        }
      ]
    },
    {
      "cell_type": "code",
      "metadata": {
        "id": "QPkkLBpXp1Kh",
        "colab": {
          "base_uri": "https://localhost:8080/"
        },
        "outputId": "2b14e7b0-12e6-4d25-904b-edd1756c0a9d"
      },
      "source": [
        "print(base_history.history.keys())"
      ],
      "execution_count": null,
      "outputs": [
        {
          "output_type": "stream",
          "name": "stdout",
          "text": [
            "dict_keys(['loss', 'accuracy', 'val_loss', 'val_accuracy'])\n"
          ]
        }
      ]
    },
    {
      "cell_type": "code",
      "metadata": {
        "id": "5P5IubkJk6Fm"
      },
      "source": [
        "def plot_history(model_history,keys):\n",
        "    m,val_m = keys\n",
        "    plt.plot(model_history.history[m])\n",
        "    plt.plot(model_history.history[val_m])\n",
        "    plt.ylabel(m)\n",
        "    plt.xlabel('epoch')\n",
        "    plt.legend(['train', 'test'], loc='upper left')\n",
        "    plt.savefig('accuracy.png')\n",
        "    plt.show()"
      ],
      "execution_count": 17,
      "outputs": []
    },
    {
      "cell_type": "code",
      "metadata": {
        "colab": {
          "base_uri": "https://localhost:8080/",
          "height": 279
        },
        "id": "SlTyOzDjLav2",
        "outputId": "9801e07b-0d9d-4d2b-8e91-8d84ccaac991"
      },
      "source": [
        "plot_history(base_history,['loss','val_loss'])"
      ],
      "execution_count": 33,
      "outputs": [
        {
          "output_type": "display_data",
          "data": {
            "image/png": "[encoded data removed]",
            "text/plain": [
              "<Figure size 432x288 with 1 Axes>"
            ]
          },
          "metadata": {
            "needs_background": "light"
          }
        }
      ]
    },
    {
      "cell_type": "code",
      "metadata": {
        "colab": {
          "base_uri": "https://localhost:8080/",
          "height": 282
        },
        "id": "Ifv0XFcfLb9P",
        "outputId": "909376b6-8c28-4bcd-ae73-a823d49c1744"
      },
      "source": [
        "plot_history(base_history,['accuracy','val_accuracy'])"
      ],
      "execution_count": 34,
      "outputs": [
        {
          "output_type": "display_data",
          "data": {
            "image/png": "[encoded data removed]",
            "text/plain": [
              "<Figure size 432x288 with 1 Axes>"
            ]
          },
          "metadata": {
            "needs_background": "light"
          }
        }
      ]
    },
    {
      "cell_type": "markdown",
      "metadata": {
        "id": "pECkDxwWh_rt"
      },
      "source": [
        "**Performance evaluation**"
      ]
    },
    {
      "cell_type": "code",
      "metadata": {
        "id": "ErGKU9_zUBvQ",
        "colab": {
          "base_uri": "https://localhost:8080/",
          "height": 382
        },
        "outputId": "a1b5c53b-c600-47c4-f004-29e1502b2d61"
      },
      "source": [
        "train_y_pred = myCNN.predict(train_x)\n",
        "val_y_pred = myCNN.predict(val_x)\n",
        "test_y_pred = myCNN.predict(test_x)\n",
        "\n",
        "print('Train predictions shape: ',train_y_pred.shape)\n",
        "print('Validation predictions shape: ',val_y_pred.shape)\n",
        "print('Test predictions shape: ',test_y_pred.shape)"
      ],
      "execution_count": null,
      "outputs": [
        {
          "output_type": "error",
          "ename": "KeyboardInterrupt",
          "evalue": "ignored",
          "traceback": [
            "\u001b[0;31m---------------------------------------------------------------------------\u001b[0m",
            "\u001b[0;31mKeyboardInterrupt\u001b[0m                         Traceback (most recent call last)",
            "\u001b[0;32m<ipython-input-68-156814d1d98d>\u001b[0m in \u001b[0;36m<module>\u001b[0;34m()\u001b[0m\n\u001b[0;32m----> 1\u001b[0;31m \u001b[0mtrain_y_pred\u001b[0m \u001b[0;34m=\u001b[0m \u001b[0mmyCNN\u001b[0m\u001b[0;34m.\u001b[0m\u001b[0mpredict\u001b[0m\u001b[0;34m(\u001b[0m\u001b[0mtrain_x\u001b[0m\u001b[0;34m)\u001b[0m\u001b[0;34m\u001b[0m\u001b[0;34m\u001b[0m\u001b[0m\n\u001b[0m\u001b[1;32m      2\u001b[0m \u001b[0mval_y_pred\u001b[0m \u001b[0;34m=\u001b[0m \u001b[0mmyCNN\u001b[0m\u001b[0;34m.\u001b[0m\u001b[0mpredict\u001b[0m\u001b[0;34m(\u001b[0m\u001b[0mval_x\u001b[0m\u001b[0;34m)\u001b[0m\u001b[0;34m\u001b[0m\u001b[0;34m\u001b[0m\u001b[0m\n\u001b[1;32m      3\u001b[0m \u001b[0mtest_y_pred\u001b[0m \u001b[0;34m=\u001b[0m \u001b[0mmyCNN\u001b[0m\u001b[0;34m.\u001b[0m\u001b[0mpredict\u001b[0m\u001b[0;34m(\u001b[0m\u001b[0mtest_x\u001b[0m\u001b[0;34m)\u001b[0m\u001b[0;34m\u001b[0m\u001b[0;34m\u001b[0m\u001b[0m\n\u001b[1;32m      4\u001b[0m \u001b[0;34m\u001b[0m\u001b[0m\n\u001b[1;32m      5\u001b[0m \u001b[0mprint\u001b[0m\u001b[0;34m(\u001b[0m\u001b[0;34m'Train predictions shape: '\u001b[0m\u001b[0;34m,\u001b[0m\u001b[0mtrain_y_pred\u001b[0m\u001b[0;34m.\u001b[0m\u001b[0mshape\u001b[0m\u001b[0;34m)\u001b[0m\u001b[0;34m\u001b[0m\u001b[0;34m\u001b[0m\u001b[0m\n",
            "\u001b[0;32m/usr/local/lib/python3.7/dist-packages/keras/engine/training.py\u001b[0m in \u001b[0;36mpredict\u001b[0;34m(self, x, batch_size, verbose, steps, callbacks, max_queue_size, workers, use_multiprocessing)\u001b[0m\n\u001b[1;32m   1749\u001b[0m           \u001b[0;32mfor\u001b[0m \u001b[0mstep\u001b[0m \u001b[0;32min\u001b[0m \u001b[0mdata_handler\u001b[0m\u001b[0;34m.\u001b[0m\u001b[0msteps\u001b[0m\u001b[0;34m(\u001b[0m\u001b[0;34m)\u001b[0m\u001b[0;34m:\u001b[0m\u001b[0;34m\u001b[0m\u001b[0;34m\u001b[0m\u001b[0m\n\u001b[1;32m   1750\u001b[0m             \u001b[0mcallbacks\u001b[0m\u001b[0;34m.\u001b[0m\u001b[0mon_predict_batch_begin\u001b[0m\u001b[0;34m(\u001b[0m\u001b[0mstep\u001b[0m\u001b[0;34m)\u001b[0m\u001b[0;34m\u001b[0m\u001b[0;34m\u001b[0m\u001b[0m\n\u001b[0;32m-> 1751\u001b[0;31m             \u001b[0mtmp_batch_outputs\u001b[0m \u001b[0;34m=\u001b[0m \u001b[0mself\u001b[0m\u001b[0;34m.\u001b[0m\u001b[0mpredict_function\u001b[0m\u001b[0;34m(\u001b[0m\u001b[0miterator\u001b[0m\u001b[0;34m)\u001b[0m\u001b[0;34m\u001b[0m\u001b[0;34m\u001b[0m\u001b[0m\n\u001b[0m\u001b[1;32m   1752\u001b[0m             \u001b[0;32mif\u001b[0m \u001b[0mdata_handler\u001b[0m\u001b[0;34m.\u001b[0m\u001b[0mshould_sync\u001b[0m\u001b[0;34m:\u001b[0m\u001b[0;34m\u001b[0m\u001b[0;34m\u001b[0m\u001b[0m\n\u001b[1;32m   1753\u001b[0m               \u001b[0mcontext\u001b[0m\u001b[0;34m.\u001b[0m\u001b[0masync_wait\u001b[0m\u001b[0;34m(\u001b[0m\u001b[0;34m)\u001b[0m\u001b[0;34m\u001b[0m\u001b[0;34m\u001b[0m\u001b[0m\n",
            "\u001b[0;32m/usr/local/lib/python3.7/dist-packages/tensorflow/python/eager/def_function.py\u001b[0m in \u001b[0;36m__call__\u001b[0;34m(self, *args, **kwds)\u001b[0m\n\u001b[1;32m    883\u001b[0m \u001b[0;34m\u001b[0m\u001b[0m\n\u001b[1;32m    884\u001b[0m       \u001b[0;32mwith\u001b[0m \u001b[0mOptionalXlaContext\u001b[0m\u001b[0;34m(\u001b[0m\u001b[0mself\u001b[0m\u001b[0;34m.\u001b[0m\u001b[0m_jit_compile\u001b[0m\u001b[0;34m)\u001b[0m\u001b[0;34m:\u001b[0m\u001b[0;34m\u001b[0m\u001b[0;34m\u001b[0m\u001b[0m\n\u001b[0;32m--> 885\u001b[0;31m         \u001b[0mresult\u001b[0m \u001b[0;34m=\u001b[0m \u001b[0mself\u001b[0m\u001b[0;34m.\u001b[0m\u001b[0m_call\u001b[0m\u001b[0;34m(\u001b[0m\u001b[0;34m*\u001b[0m\u001b[0margs\u001b[0m\u001b[0;34m,\u001b[0m \u001b[0;34m**\u001b[0m\u001b[0mkwds\u001b[0m\u001b[0;34m)\u001b[0m\u001b[0;34m\u001b[0m\u001b[0;34m\u001b[0m\u001b[0m\n\u001b[0m\u001b[1;32m    886\u001b[0m \u001b[0;34m\u001b[0m\u001b[0m\n\u001b[1;32m    887\u001b[0m       \u001b[0mnew_tracing_count\u001b[0m \u001b[0;34m=\u001b[0m \u001b[0mself\u001b[0m\u001b[0;34m.\u001b[0m\u001b[0mexperimental_get_tracing_count\u001b[0m\u001b[0;34m(\u001b[0m\u001b[0;34m)\u001b[0m\u001b[0;34m\u001b[0m\u001b[0;34m\u001b[0m\u001b[0m\n",
            "\u001b[0;32m/usr/local/lib/python3.7/dist-packages/tensorflow/python/eager/def_function.py\u001b[0m in \u001b[0;36m_call\u001b[0;34m(self, *args, **kwds)\u001b[0m\n\u001b[1;32m    922\u001b[0m       \u001b[0;31m# In this case we have not created variables on the first call. So we can\u001b[0m\u001b[0;34m\u001b[0m\u001b[0;34m\u001b[0m\u001b[0;34m\u001b[0m\u001b[0m\n\u001b[1;32m    923\u001b[0m       \u001b[0;31m# run the first trace but we should fail if variables are created.\u001b[0m\u001b[0;34m\u001b[0m\u001b[0;34m\u001b[0m\u001b[0;34m\u001b[0m\u001b[0m\n\u001b[0;32m--> 924\u001b[0;31m       \u001b[0mresults\u001b[0m \u001b[0;34m=\u001b[0m \u001b[0mself\u001b[0m\u001b[0;34m.\u001b[0m\u001b[0m_stateful_fn\u001b[0m\u001b[0;34m(\u001b[0m\u001b[0;34m*\u001b[0m\u001b[0margs\u001b[0m\u001b[0;34m,\u001b[0m \u001b[0;34m**\u001b[0m\u001b[0mkwds\u001b[0m\u001b[0;34m)\u001b[0m\u001b[0;34m\u001b[0m\u001b[0;34m\u001b[0m\u001b[0m\n\u001b[0m\u001b[1;32m    925\u001b[0m       \u001b[0;32mif\u001b[0m \u001b[0mself\u001b[0m\u001b[0;34m.\u001b[0m\u001b[0m_created_variables\u001b[0m \u001b[0;32mand\u001b[0m \u001b[0;32mnot\u001b[0m \u001b[0mALLOW_DYNAMIC_VARIABLE_CREATION\u001b[0m\u001b[0;34m:\u001b[0m\u001b[0;34m\u001b[0m\u001b[0;34m\u001b[0m\u001b[0m\n\u001b[1;32m    926\u001b[0m         raise ValueError(\"Creating variables on a non-first call to a function\"\n",
            "\u001b[0;32m/usr/local/lib/python3.7/dist-packages/tensorflow/python/eager/function.py\u001b[0m in \u001b[0;36m__call__\u001b[0;34m(self, *args, **kwargs)\u001b[0m\n\u001b[1;32m   3038\u001b[0m        filtered_flat_args) = self._maybe_define_function(args, kwargs)\n\u001b[1;32m   3039\u001b[0m     return graph_function._call_flat(\n\u001b[0;32m-> 3040\u001b[0;31m         filtered_flat_args, captured_inputs=graph_function.captured_inputs)  # pylint: disable=protected-access\n\u001b[0m\u001b[1;32m   3041\u001b[0m \u001b[0;34m\u001b[0m\u001b[0m\n\u001b[1;32m   3042\u001b[0m   \u001b[0;34m@\u001b[0m\u001b[0mproperty\u001b[0m\u001b[0;34m\u001b[0m\u001b[0;34m\u001b[0m\u001b[0m\n",
            "\u001b[0;32m/usr/local/lib/python3.7/dist-packages/tensorflow/python/eager/function.py\u001b[0m in \u001b[0;36m_call_flat\u001b[0;34m(self, args, captured_inputs, cancellation_manager)\u001b[0m\n\u001b[1;32m   1962\u001b[0m       \u001b[0;31m# No tape is watching; skip to running the function.\u001b[0m\u001b[0;34m\u001b[0m\u001b[0;34m\u001b[0m\u001b[0;34m\u001b[0m\u001b[0m\n\u001b[1;32m   1963\u001b[0m       return self._build_call_outputs(self._inference_function.call(\n\u001b[0;32m-> 1964\u001b[0;31m           ctx, args, cancellation_manager=cancellation_manager))\n\u001b[0m\u001b[1;32m   1965\u001b[0m     forward_backward = self._select_forward_and_backward_functions(\n\u001b[1;32m   1966\u001b[0m         \u001b[0margs\u001b[0m\u001b[0;34m,\u001b[0m\u001b[0;34m\u001b[0m\u001b[0;34m\u001b[0m\u001b[0m\n",
            "\u001b[0;32m/usr/local/lib/python3.7/dist-packages/tensorflow/python/eager/function.py\u001b[0m in \u001b[0;36mcall\u001b[0;34m(self, ctx, args, cancellation_manager)\u001b[0m\n\u001b[1;32m    594\u001b[0m               \u001b[0minputs\u001b[0m\u001b[0;34m=\u001b[0m\u001b[0margs\u001b[0m\u001b[0;34m,\u001b[0m\u001b[0;34m\u001b[0m\u001b[0;34m\u001b[0m\u001b[0m\n\u001b[1;32m    595\u001b[0m               \u001b[0mattrs\u001b[0m\u001b[0;34m=\u001b[0m\u001b[0mattrs\u001b[0m\u001b[0;34m,\u001b[0m\u001b[0;34m\u001b[0m\u001b[0;34m\u001b[0m\u001b[0m\n\u001b[0;32m--> 596\u001b[0;31m               ctx=ctx)\n\u001b[0m\u001b[1;32m    597\u001b[0m         \u001b[0;32melse\u001b[0m\u001b[0;34m:\u001b[0m\u001b[0;34m\u001b[0m\u001b[0;34m\u001b[0m\u001b[0m\n\u001b[1;32m    598\u001b[0m           outputs = execute.execute_with_cancellation(\n",
            "\u001b[0;32m/usr/local/lib/python3.7/dist-packages/tensorflow/python/eager/execute.py\u001b[0m in \u001b[0;36mquick_execute\u001b[0;34m(op_name, num_outputs, inputs, attrs, ctx, name)\u001b[0m\n\u001b[1;32m     58\u001b[0m     \u001b[0mctx\u001b[0m\u001b[0;34m.\u001b[0m\u001b[0mensure_initialized\u001b[0m\u001b[0;34m(\u001b[0m\u001b[0;34m)\u001b[0m\u001b[0;34m\u001b[0m\u001b[0;34m\u001b[0m\u001b[0m\n\u001b[1;32m     59\u001b[0m     tensors = pywrap_tfe.TFE_Py_Execute(ctx._handle, device_name, op_name,\n\u001b[0;32m---> 60\u001b[0;31m                                         inputs, attrs, num_outputs)\n\u001b[0m\u001b[1;32m     61\u001b[0m   \u001b[0;32mexcept\u001b[0m \u001b[0mcore\u001b[0m\u001b[0;34m.\u001b[0m\u001b[0m_NotOkStatusException\u001b[0m \u001b[0;32mas\u001b[0m \u001b[0me\u001b[0m\u001b[0;34m:\u001b[0m\u001b[0;34m\u001b[0m\u001b[0;34m\u001b[0m\u001b[0m\n\u001b[1;32m     62\u001b[0m     \u001b[0;32mif\u001b[0m \u001b[0mname\u001b[0m \u001b[0;32mis\u001b[0m \u001b[0;32mnot\u001b[0m \u001b[0;32mNone\u001b[0m\u001b[0;34m:\u001b[0m\u001b[0;34m\u001b[0m\u001b[0;34m\u001b[0m\u001b[0m\n",
            "\u001b[0;31mKeyboardInterrupt\u001b[0m: "
          ]
        }
      ]
    },
    {
      "cell_type": "code",
      "metadata": {
        "id": "7F0j3VAh7MVA"
      },
      "source": [
        "def prediction_check(groundtruth, predicted):\n",
        "  true_pos = 0\n",
        "  false_pos = 0\n",
        "  false_neg = 0\n",
        "\n",
        "  for predicted_source in predicted:\n",
        "    true_source = False \n",
        "    for source in groundtruth:\n",
        "      if abs(source[0]-predicted_source[0]) <=3 or abs(source[1]-predicted_source[1]) <=3:\n",
        "        true_source = True\n",
        "      \n",
        "    if true_source:\n",
        "      true_pos += 1\n",
        "    else:\n",
        "      false_pos += 1\n",
        "\n",
        "  for source in groundtruth:\n",
        "    found = False\n",
        "    for predicted_source in predicted:\n",
        "      if abs(source[0]-predicted_source[0]) <=3 or abs(source[1]-predicted_source[1]) <=3:\n",
        "        found = True\n",
        "    \n",
        "    if not found:\n",
        "      false_neg += 1\n",
        "\n",
        "  return true_pos, false_pos, false_neg"
      ],
      "execution_count": null,
      "outputs": []
    },
    {
      "cell_type": "code",
      "metadata": {
        "id": "kcTYpN65J09O"
      },
      "source": [
        "def compute_results(groundtruth, predicted, threshold):\n",
        "  \n",
        "  true_pos = 0\n",
        "  false_neg = 0\n",
        "  false_pos = 0\n",
        "\n",
        "  for i in range(len(predicted)):\n",
        "    t = predicted[i].copy()\n",
        "    t = t[:,:,0]\n",
        "\n",
        "    t[t<threshold] = 0\n",
        "    t[t>=threshold] = 1\n",
        "\n",
        "    sources = np.flip(np.column_stack(np.where(groundtruth[i] > 0)),axis=1)\n",
        "    predicted_sources = np.flip(np.column_stack(np.where(t > 0)),axis=1)\n",
        "    true_pos_val, false_pos_val, false_neg_val = prediction_check(sources, predicted_sources)\n",
        "    true_pos += true_pos_val\n",
        "    false_pos += false_pos_val\n",
        "    false_neg += false_neg_val\n",
        "\n",
        "  recall = true_pos / (true_pos+false_neg)\n",
        "  precision = true_pos / (true_pos+false_pos)\n",
        "  f1 = (2 * precision * recall) / (precision + recall)\n",
        "\n",
        "  print(\"True positives = {:d}\".format(true_pos))\n",
        "  print(\"False negatives = {:d}\".format(false_neg))\n",
        "  print(\"False positives = {:d}\".format(false_pos))\n",
        "  print(\"Set Recall = {:f}\".format(recall))\n",
        "  print(\"Set Precision = {:f}\".format(precision))\n",
        "  print(\"F1 Score = {:f}\".format(f1))"
      ],
      "execution_count": null,
      "outputs": []
    },
    {
      "cell_type": "code",
      "metadata": {
        "id": "rVFx-M3bKfyh"
      },
      "source": [
        "print(\"Training set results:\")\n",
        "compute_results(train_y, train_y_pred, 0.04)\n",
        "\n",
        "print(\"\\n\\nValidation set results:\")\n",
        "compute_results(val_y, val_y_pred, 0.04)\n",
        "\n",
        "print(\"\\n\\nTest set results:\")\n",
        "compute_results(test_y, test_y_pred, 0.04)"
      ],
      "execution_count": null,
      "outputs": []
    },
    {
      "cell_type": "code",
      "metadata": {
        "colab": {
          "base_uri": "https://localhost:8080/",
          "height": 855
        },
        "id": "CVX6fX-WAAUg",
        "outputId": "95c4923d-01a4-4179-daa4-990b066ded77"
      },
      "source": [
        "n = 157\n",
        "\n",
        "plt.imshow(test_x[n])\n",
        "plt.show()\n",
        "\n",
        "fig = plt.figure(figsize=(15,5))\n",
        "fig.suptitle('test images')\n",
        "fig.add_subplot(1,4,1)\n",
        "plt.imshow(test_y[n][:,:,0])\n",
        "fig.add_subplot(1,4,2)\n",
        "plt.imshow(test_y[n][:,:,1])\n",
        "fig.add_subplot(1,4,3)\n",
        "plt.imshow(test_y[n][:,:,2])\n",
        "fig.add_subplot(1,4,4)\n",
        "plt.imshow(test_y[n][:,:,3])\n",
        "plt.show()\n",
        "\n",
        "t = myCNN.predict(test_x[n:n+1])[0]\n",
        "\n",
        "fig = plt.figure(figsize=(15,5))\n",
        "fig.suptitle('predicted images')\n",
        "fig.add_subplot(1,4,1)\n",
        "plt.imshow(t[:,:,0])\n",
        "fig.add_subplot(1,4,2)\n",
        "plt.imshow(t[:,:,1])\n",
        "fig.add_subplot(1,4,3)\n",
        "plt.imshow(t[:,:,2])\n",
        "fig.add_subplot(1,4,4)\n",
        "plt.imshow(t[:,:,3])\n",
        "plt.show()"
      ],
      "execution_count": 35,
      "outputs": [
        {
          "output_type": "display_data",
          "data": {
            "image/png": "[encoded data removed]",
            "text/plain": [
              "<Figure size 432x288 with 1 Axes>"
            ]
          },
          "metadata": {
            "needs_background": "light"
          }
        },
        {
          "output_type": "display_data",
          "data": {
            "image/png": "[encoded data removed]",
            "text/plain": [
              "<Figure size 1080x360 with 4 Axes>"
            ]
          },
          "metadata": {
            "needs_background": "light"
          }
        },
        {
          "output_type": "display_data",
          "data": {
            "image/png": "[encoded data removed]",
            "text/plain": [
              "<Figure size 1080x360 with 4 Axes>"
            ]
          },
          "metadata": {
            "needs_background": "light"
          }
        }
      ]
    },
    {
      "cell_type": "code",
      "metadata": {
        "id": "vasnGLDu2e6q",
        "colab": {
          "base_uri": "https://localhost:8080/",
          "height": 1000
        },
        "outputId": "0dae034b-bef7-40bd-b299-c1b0eba2ed07"
      },
      "source": [
        "plt.imshow(test_x[90])\n",
        "plt.show()\n",
        "\n",
        "plt.imshow(test_y[90])\n",
        "plt.show()\n",
        "\n",
        "t = myCNN.predict(test_x[90:91])\n",
        "t = t[0,:,:,0]\n",
        "\n",
        "plt.imshow(t)\n",
        "plt.show()\n",
        "\n",
        "a = t.copy()\n",
        "a[a<0.04] = 0\n",
        "a[a>=0.04] = 1\n",
        "\n",
        "plt.imshow(a)\n",
        "plt.show()"
      ],
      "execution_count": null,
      "outputs": [
        {
          "output_type": "display_data",
          "data": {
            "image/png": "[encoded data removed]",
            "text/plain": [
              "<Figure size 432x288 with 1 Axes>"
            ]
          },
          "metadata": {
            "needs_background": "light"
          }
        },
        {
          "output_type": "display_data",
          "data": {
            "image/png": "[encoded data removed]",
            "text/plain": [
              "<Figure size 432x288 with 1 Axes>"
            ]
          },
          "metadata": {
            "needs_background": "light"
          }
        },
        {
          "output_type": "display_data",
          "data": {
            "image/png": "[encoded data removed]",
            "text/plain": [
              "<Figure size 432x288 with 1 Axes>"
            ]
          },
          "metadata": {
            "needs_background": "light"
          }
        },
        {
          "output_type": "display_data",
          "data": {
            "image/png": "[encoded data removed]",
            "text/plain": [
              "<Figure size 432x288 with 1 Axes>"
            ]
          },
          "metadata": {
            "needs_background": "light"
          }
        }
      ]
    },
    {
      "cell_type": "markdown",
      "metadata": {
        "id": "KxrgqH5wGlMa"
      },
      "source": [
        "**Display Filters**"
      ]
    },
    {
      "cell_type": "code",
      "metadata": {
        "id": "fz8ntH6HzJTU"
      },
      "source": [
        "from matplotlib.pyplot import figure\n",
        "\n",
        "# retrieve weights from the second hidden layer\n",
        "filters, biases = myCNN.layers[6].get_weights()\n",
        "# normalize filter values to 0-1 so we can visualize them\n",
        "f_min, f_max = filters.min(), filters.max()\n",
        "filters = (filters - f_min) / (f_max - f_min)\n",
        "# plot first few filters\n",
        "n_filters, ix = np.shape(filters)[-1], 1\n",
        "\n",
        "fig = plt.figure(figsize=(30,15))\n",
        "n_filters = 30\n",
        "for i in range(n_filters):\n",
        "  f = filters[:, :, 0, i]\n",
        "  fig.add_subplot(1,n_filters,ix)\n",
        "  # plot filter channel in grayscale\n",
        "  plt.imshow(f[:, :])\n",
        "  ix += 1\n",
        "# show the figure\n",
        "plt.show()"
      ],
      "execution_count": null,
      "outputs": []
    },
    {
      "cell_type": "markdown",
      "metadata": {
        "id": "cqFR-VseKamZ"
      },
      "source": [
        "**Display Feature Maps**"
      ]
    },
    {
      "cell_type": "code",
      "metadata": {
        "id": "Xq-zfTEaFypS"
      },
      "source": [
        "def show_feature_maps(model,img, layer_num):\n",
        "  \n",
        "  feature_maps = model.predict(img)\n",
        "  fig = plt.figure(figsize=(30,9))\n",
        "\n",
        "  f1 = feature_maps[layer_num][0,:,:]\n",
        "  num_features = np.shape(f1)[-1]\n",
        "\n",
        "  for i in range(num_features):\n",
        "    fig.add_subplot(num_features//8,8,i+1)\n",
        "    plt.imshow(f1[:,:,i])"
      ],
      "execution_count": null,
      "outputs": []
    },
    {
      "cell_type": "code",
      "metadata": {
        "id": "S8RAjkRB4ptP"
      },
      "source": [
        "from keras.preprocessing.image import load_img\n",
        "from keras.preprocessing.image import img_to_array\n",
        "from keras.models import Model\n",
        "from matplotlib import pyplot\n",
        "from numpy import expand_dims\n",
        "\n",
        "ixs = [2, 4, 6]\n",
        "outputs = [myCNN.layers[i].output for i in ixs]\n",
        "model = Model(inputs=myCNN.inputs, outputs=outputs)\n",
        "\n",
        "# load the image with the required shape\n",
        "img = cutouts[3*cutouts_per_row]\n",
        "\n",
        "# convert the image to an array\n",
        "img = img_to_array(img)\n",
        "\n",
        "# expand dimensions so that it represents a single 'sample'\n",
        "img = expand_dims(img, axis=0)\n",
        "\n",
        "for i in range(len(ixs)):\n",
        "  show_feature_maps(model,img,i)"
      ],
      "execution_count": null,
      "outputs": []
    }
  ]
}